{
 "cells": [
  {
   "cell_type": "code",
   "execution_count": null,
   "metadata": {},
   "outputs": [],
   "source": [
    "# Задача - сегментировать клиентов. У нас есть датасет некой компании WestSuperstore, в котором содержатся все транзакции \n",
    "# за определенный период, самые важные колонки - это Customer Id, Sales. Order Date. Они обозначают уникальный id клиента, сумму всего \n",
    "# заказа соответственно и дату заказа соответственно. Для сегментации клиентов мы использовали метод LTV, обозначающий зависимость между \n",
    "# такими параметрами, как средний чек, число продаж клиенту в месяц, время удержания клиента в месяцах. Исходя из этих параметров мы можем выделить\n",
    "# несколько сегментов людей, которые могут подойти. Далее будет рассказано подробнее.\n",
    "# ↓ Здесь мы подключаем все библиотеки и считываем датасет "
   ]
  },
  {
   "cell_type": "code",
   "execution_count": 1,
   "metadata": {},
   "outputs": [],
   "source": [
    "import pandas as pd\n",
    "from datetime import datetime\n",
    "from sklearn.cluster import KMeans\n",
    "import numpy as np\n",
    "import matplotlib.pyplot as plt\n",
    "from sklearn.metrics import silhouette_score\n",
    "\n",
    "dataset = pd.read_excel(\"West_Superstore.xlsx\", sheet_name=0)\n",
    "columns = [\"Row ID\", \"Order ID\", \"Order Date\", \"Ship Date\", \"Ship Mode\", \"Customer ID\", \"Customer Name\", \"Segment\",\n",
    "           \"Country\", \"City\", \"State\", \"Postal Code\", \"Region\", \"Product ID\", \"Category\", \"Sub-Category\",\n",
    "           \"Product Name\", \"Sales\", \"Quantity\", \"Discount\", \"Profit\"]\n"
   ]
  },
  {
   "cell_type": "code",
   "execution_count": null,
   "metadata": {},
   "outputs": [],
   "source": [
    "# Здесь мы представляем датасет в ООП виде, то есть у каждого клиента есть свой список заказов.\n",
    "# Также мы объявили переменны для записи туда значений LTV"
   ]
  },
  {
   "cell_type": "code",
   "execution_count": 3,
   "metadata": {},
   "outputs": [],
   "source": [
    "class DateCount:\n",
    "    def __init__(self, month, year, count):\n",
    "        self.month = month\n",
    "        self.year = year\n",
    "        self.count = count\n",
    "\n",
    "    def incrementCount(self):\n",
    "        self.count += 1\n",
    "\n",
    "class Item:\n",
    "    def __init__(self, rowID, orderID, orderDate, shipDate, shipMode, customerID, customerName, segment, country, city,\n",
    "                 state, postalCode, region, productID, category, subCategory, productName, sales, quantity, discount,\n",
    "                 profit):\n",
    "        self.rowID = rowID\n",
    "        self.orderID = orderID\n",
    "        self.orderDate = orderDate\n",
    "        self.shipDate = shipDate\n",
    "        self.shipMode = shipMode\n",
    "        self.customerID = customerID\n",
    "        self.customerName = customerName\n",
    "        self.segment = segment\n",
    "        self.country = country\n",
    "        self.city = city\n",
    "        self.state = state\n",
    "        self.postalCode = postalCode\n",
    "        self.region = region\n",
    "        self.category = category\n",
    "        self.subCategory = subCategory\n",
    "        self.productName = productName\n",
    "        self.sales = sales\n",
    "        self.quantity = quantity\n",
    "        self.discount = discount\n",
    "        self.profit = profit\n",
    "        self.productID = productID\n",
    "\n",
    "\n",
    "class Customer:\n",
    "    def __init__(self, customerID, orders, ltv):\n",
    "        self.customerID = customerID\n",
    "        self.customers = orders\n",
    "        self.ltv = ltv\n",
    "\n",
    "\n",
    "class LTV:\n",
    "    def __init__(self, avg_receipt, months, sales_count):\n",
    "        self.avg_receipt = avg_receipt\n",
    "        self.months = months\n",
    "        self.sales_count = sales_count"
   ]
  },
  {
   "cell_type": "code",
   "execution_count": null,
   "metadata": {},
   "outputs": [],
   "source": [
    "# Здесь мы объявили функции для подсчета количества месяцев между 2 датами, и функцию, которая может конвертировать значение,\n",
    "# изменяющеея в одних пределах, в значение, изменяющееся в других пределах"
   ]
  },
  {
   "cell_type": "code",
   "execution_count": 4,
   "metadata": {},
   "outputs": [],
   "source": [
    "def diff_month(d1, d2):\n",
    "    return (d1.year - d2.year) * 12 + d1.month - d2.month\n",
    "\n",
    "\n",
    "def map(x, in_min, in_max, out_min, out_max):\n",
    "    return (x - in_min) * (out_max - out_min) / (in_max - in_min) + out_min"
   ]
  },
  {
   "cell_type": "code",
   "execution_count": null,
   "metadata": {},
   "outputs": [],
   "source": [
    "# Далее мы разгруппировали датасет на клиентов, каждому клиенту мы присвоили его же список заказов. "
   ]
  },
  {
   "cell_type": "code",
   "execution_count": 5,
   "metadata": {},
   "outputs": [],
   "source": [
    "y = []\n",
    "\n",
    "i = 0\n",
    "while i < len(dataset[\"Row ID\"]):\n",
    "    consist = False\n",
    "    n = 0\n",
    "    while n < len(y):\n",
    "        if y[n].customerID == dataset[\"Customer ID\"][i]:\n",
    "            consist = True\n",
    "            break\n",
    "        n -= - 1\n",
    "    item = Item(rowID=dataset[\"Row ID\"][i], orderID=dataset[\"Order ID\"][i], orderDate=dataset[\"Order Date\"][i],\n",
    "                shipDate=dataset[\"Ship Date\"][i],\n",
    "                shipMode=dataset[\"Ship Mode\"][i], customerID=dataset[\"Customer ID\"][i],\n",
    "                customerName=dataset[\"Customer Name\"][i], segment=dataset[\"Segment\"][i],\n",
    "                country=dataset[\"Country\"][i], city=dataset[\"City\"][i], state=dataset[\"State\"][i],\n",
    "                postalCode=dataset[\"Postal Code\"][i], region=dataset[\"Region\"][i],\n",
    "                category=dataset[\"Category\"][i], subCategory=dataset[\"Sub-Category\"][i], sales=dataset[\"Sales\"][i],\n",
    "                quantity=dataset[\"Quantity\"][i],\n",
    "                discount=dataset[\"Discount\"][i], profit=dataset[\"Profit\"][i], productID=dataset[\"Product ID\"][i],\n",
    "                productName=dataset[\"Product Name\"][i])\n",
    "    if consist:\n",
    "        y[n].customers.append(item)\n",
    "    else:\n",
    "        arr = []\n",
    "        arr.append(item)\n",
    "        y.append(Customer(customerID=dataset[\"Customer ID\"][i], orders=arr, ltv=None))\n",
    "    i -= - 1"
   ]
  },
  {
   "cell_type": "code",
   "execution_count": null,
   "metadata": {},
   "outputs": [],
   "source": [
    "# Здесь происходит вся магия. Здесь мы расчитываем все значения LTV для каждого клиента. Также мы находим самые минимальные\n",
    "# и максимальные значения среднего чека, числа продаж клиенту в месяц, времени удержания клиента в месяцах."
   ]
  },
  {
   "cell_type": "code",
   "execution_count": 6,
   "metadata": {},
   "outputs": [],
   "source": [
    "# LTV\n",
    "i = 0\n",
    "\n",
    "# ltv = []\n",
    "\n",
    "Kmeans_input = []\n",
    "min_avg_receipt = 99999999999999999999\n",
    "max_avg_receipt = 0\n",
    "min_months = 99999999999999999999\n",
    "max_months = 0\n",
    "min_sales_count = 99999999999999999999\n",
    "max_sales_count = 0\n",
    "\n",
    "while i < len(y):\n",
    "    n = 0\n",
    "    sums = 0\n",
    "    dates = []\n",
    "    months_sales = []\n",
    "    while n < len(y[i].customers):\n",
    "        sums += float(y[i].customers[n].sales)\n",
    "        datetime = datetime.strptime(str(y[i].customers[n].orderDate), '%Y-%m-%d %H:%M:%S')\n",
    "        z = 0\n",
    "        consist = False\n",
    "        while z < len(months_sales):\n",
    "            if months_sales[z].month == datetime.month and months_sales[z].year == datetime.year:\n",
    "                months_sales[z].count += 1\n",
    "                consist = True\n",
    "            z -= - 1\n",
    "        if not consist:\n",
    "            months_sales.append(DateCount(month=datetime.month, year=datetime.year, count=1))\n",
    "        dates.append(datetime)\n",
    "        n -= - 1\n",
    "    months = diff_month(max(dates), min(dates))\n",
    "\n",
    "    k = 0\n",
    "    months_sales_counts = []\n",
    "    while k < len(months_sales):\n",
    "        months_sales_counts.append(int(months_sales[k].count))\n",
    "        k -= - 1\n",
    "\n",
    "    y[i].ltv = LTV(avg_receipt=(sums / len(y[i].customers)),\n",
    "                   sales_count=(sum(months_sales_counts) / len(months_sales_counts)), months=months)\n",
    "    Kmeans_input.append([y[i].ltv.avg_receipt, y[i].ltv.sales_count, y[i].ltv.months])\n",
    "\n",
    "    if min_avg_receipt > y[i].ltv.avg_receipt:\n",
    "        min_avg_receipt = y[i].ltv.avg_receipt\n",
    "    if min_months > y[i].ltv.months:\n",
    "        min_months = y[i].ltv.months\n",
    "    if min_sales_count > y[i].ltv.sales_count:\n",
    "        min_sales_count = y[i].ltv.sales_count\n",
    "\n",
    "    if max_avg_receipt < y[i].ltv.avg_receipt:\n",
    "        max_avg_receipt = y[i].ltv.avg_receipt\n",
    "    if max_months < y[i].ltv.months:\n",
    "        max_months = y[i].ltv.months\n",
    "    if max_sales_count < y[i].ltv.sales_count:\n",
    "        max_sales_count = y[i].ltv.sales_count\n",
    "\n",
    "    i -= - 1"
   ]
  },
  {
   "cell_type": "code",
   "execution_count": null,
   "metadata": {},
   "outputs": [],
   "source": [
    "# Далее мы конвертируем все данные LTV в значения от [0,4]"
   ]
  },
  {
   "cell_type": "code",
   "execution_count": 7,
   "metadata": {},
   "outputs": [],
   "source": [
    "Kmeans_input = []\n",
    "\n",
    "i = 0\n",
    "while i < len(y):\n",
    "    Kmeans_input.append([map(y[i].ltv.avg_receipt, min_avg_receipt, max_avg_receipt, 0, 4),\n",
    "                         map(y[i].ltv.sales_count, min_sales_count, max_sales_count, 0, 4),\n",
    "                         map(y[i].ltv.months, min_months, max_months, 0, 4)])\n",
    "    i -= - 1\n",
    "\n",
    "X = np.array(Kmeans_input)\n",
    "\n",
    "kmeans_scores = []\n",
    "kmeans_scores_siluette = []\n",
    "ints = []\n"
   ]
  },
  {
   "cell_type": "code",
   "execution_count": null,
   "metadata": {},
   "outputs": [],
   "source": [
    "# Далее мы класторизовали все точки методом k-средних, за метрики брали значения LTV. Чтобы понять, какое количество класторов оптимально,\n",
    "# воспользуемся методом локтя и методом силуэтов"
   ]
  },
  {
   "cell_type": "code",
   "execution_count": 8,
   "metadata": {},
   "outputs": [],
   "source": [
    "i = 3\n",
    "while i < 12:\n",
    "    kmeans = KMeans(n_clusters=i)\n",
    "    preds = kmeans.fit_predict(X)\n",
    "    kmeans_scores.append(abs(kmeans.fit(X).score(X)))\n",
    "    kmeans_scores_siluette.append(silhouette_score(X, preds, metric='euclidean'))\n",
    "    ints.append(i)\n",
    "    i += 1\n",
    "    "
   ]
  },
  {
   "cell_type": "code",
   "execution_count": 9,
   "metadata": {},
   "outputs": [
    {
     "data": {
      "image/png": "[encoded data removed]",
      "text/plain": [
       "<Figure size 432x288 with 1 Axes>"
      ]
     },
     "metadata": {
      "needs_background": "light"
     },
     "output_type": "display_data"
    }
   ],
   "source": [
    "plt.title(\"Метод логтя\")\n",
    "plt.plot(ints, kmeans_scores, 'ro')\n",
    "plt.show()"
   ]
  },
  {
   "cell_type": "code",
   "execution_count": null,
   "metadata": {},
   "outputs": [],
   "source": [
    "# На данном графике видно, что разница между 4-7 кластерами не существенно большая, поэтому мы не можем однозначно определить,\n",
    "# на какое количество кластеров оптимально поделить наших клиентов. Поэтому применим метод силуэта"
   ]
  },
  {
   "cell_type": "code",
   "execution_count": 10,
   "metadata": {},
   "outputs": [
    {
     "data": {
      "image/png": "[encoded data removed]",
      "text/plain": [
       "<Figure size 432x288 with 1 Axes>"
      ]
     },
     "metadata": {
      "needs_background": "light"
     },
     "output_type": "display_data"
    }
   ],
   "source": [
    "plt.title(\"Silhouette\")\n",
    "plt.plot(ints, kmeans_scores_siluette, 'ro')\n",
    "plt.show()"
   ]
  },
  {
   "cell_type": "code",
   "execution_count": null,
   "metadata": {},
   "outputs": [],
   "source": [
    "# На данном графике более точнее видно, что наибольшую выгоду мы получаем при 5 кластеров, тоесть нам нужно разделить клиентов на 5 сегментов.\n",
    "# Задача выполнена"
   ]
  }
 ],
 "metadata": {
  "kernelspec": {
   "display_name": "Python 3",
   "language": "python",
   "name": "python3"
  },
  "language_info": {
   "codemirror_mode": {
    "name": "ipython",
    "version": 3
   },
   "file_extension": ".py",
   "mimetype": "text/x-python",
   "name": "python",
   "nbconvert_exporter": "python",
   "pygments_lexer": "ipython3",
   "version": "3.7.4"
  }
 },
 "nbformat": 4,
 "nbformat_minor": 4
}
