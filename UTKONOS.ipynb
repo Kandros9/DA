{
 "cells": [
  {
   "cell_type": "code",
   "execution_count": null,
   "metadata": {},
   "outputs": [],
   "source": [
    "#Арсенюк Александр, Галиев Руслан, Даминов Ильназ, Павличенков Игорь"
   ]
  },
  {
   "cell_type": "code",
   "execution_count": 1,
   "metadata": {},
   "outputs": [],
   "source": [
    "# Цель работы -  построить поведенческую модель \n",
    "# покупателей для прогнозирования вероятности и ожидаемого времени отмены заказа.\n",
    "# Необходимо решить задачу прогнозирования вероятности отказа клиента \n",
    "# от заказа без учета времени и стадии формирования заказа. \n",
    "# В качестве исходных данных для построения модели предоставляется подвыборка (sample) \n",
    "# истории заказов клиентов за определенный период времени с бинарной целевой переменной – \n",
    "# признаком того, что заказ был отменен клиентом. \n",
    "# Набор данных разбит на тренировочный (до 1 _января_ 2019 года) и тестовый (до 1 августа 2019 года).\n",
    "# В тестовом наборе целевая переменная скрыта от участников и задачей является предсказание вероятности отказа."
   ]
  },
  {
   "cell_type": "code",
   "execution_count": 2,
   "metadata": {},
   "outputs": [],
   "source": [
    "# Что имеем: 9 миллионов строк и 14 колонок\n",
    "# Date - Плановая дата доставки до клиента\n",
    "# DateOrder - Дата оформления заказа\n",
    "# ClientID - ID клиента\n",
    "# ChannelID - канал сбыта\n",
    "# OrderID - Номер заказа, присваевымый сайтом\n",
    "# MaterialID - ID материала\n",
    "# GroupID - Группа Закупок ID\n",
    "# DeliveryType - Тип доставки\n",
    "# Cluster - Кластер доставки\n",
    "# Interval - Временной интервал доставки (с n-часов по n-часов)\n",
    "# CancelFlag - Метка отмены заказов - целевая переменная первого этапа\n",
    "# OrderCnt - Заказано, шт\n",
    "# Prepay - Признак предоплаты\n",
    "# Count_edit - Число редактирований заказа клиентом, 1 (первоначальный ввод) и больше\n",
    "# ConfCnt - Подтверждено, шт. Доступно на втором этапе\n",
    "# Delta - Число часов от отказа до времени доставки, целевая переменная второго этапа"
   ]
  },
  {
   "cell_type": "code",
   "execution_count": 3,
   "metadata": {},
   "outputs": [],
   "source": [
    "import pylab as pl\n",
    "import pandas as pd\n",
    "import numpy as np\n",
    "import seaborn as sns\n",
    "import xgboost as xgb\n",
    "import matplotlib.pyplot as plt\n",
    "plt.style.use('ggplot')"
   ]
  },
  {
   "cell_type": "code",
   "execution_count": 4,
   "metadata": {},
   "outputs": [],
   "source": [
    "# Читаем из файла данные с указанными парметрами\n",
    "# Только headers столбцов.\n",
    "# Так как компьютер не может обрабатывать 9 миллионов строк, сокращаем до 1 миллиона\n",
    "# Берем только 1 миллион данных для исслдеования\n",
    "# Декодируем данные в кодирвоке \"cp1251\""
   ]
  },
  {
   "cell_type": "code",
   "execution_count": 5,
   "metadata": {},
   "outputs": [],
   "source": [
    "all_headers = [\"ClientID\",\"ChannelID\",\"OrderID\",\"MaterialID\",\"GroupID\",\"Interval\",\"Date\",\"OrderDate\",\n",
    "               \"Cluster\",\"CancelFlag\",\"OrderCnt\",\"DeliveryType\", \"Prepay\", \"Count_edit\"]\n",
    "exmaple_train_set = pd.read_csv(\"/Users/alxarsnk/Desktop/AD_zach/train.csv\", skiprows=range(1000000,9000000), \n",
    "                                low_memory = False, header = None, names = all_headers, encoding=\"cp1251\")"
   ]
  },
  {
   "cell_type": "code",
   "execution_count": 6,
   "metadata": {},
   "outputs": [],
   "source": [
    "# Обработка данных - удаление Nan\n",
    "# и замена категориальных признаков численными\n",
    "\n",
    "exmaple_train_set = exmaple_train_set.replace(' ?', np.nan).dropna()\n",
    "for feature in exmaple_train_set.columns:\n",
    "    if exmaple_train_set[feature].dtype == \"object\":\n",
    "        exmaple_train_set[feature] = pd.Categorical(exmaple_train_set[feature]).codes"
   ]
  },
  {
   "cell_type": "code",
   "execution_count": 7,
   "metadata": {},
   "outputs": [
    {
     "name": "stdout",
     "output_type": "stream",
     "text": [
      "<class 'pandas.core.frame.DataFrame'>\n",
      "Int64Index: 23302 entries, 0 to 1023184\n",
      "Data columns (total 14 columns):\n",
      "ClientID        23302 non-null int8\n",
      "ChannelID       23302 non-null int8\n",
      "OrderID         23302 non-null int8\n",
      "MaterialID      23302 non-null int16\n",
      "GroupID         23302 non-null int8\n",
      "Interval        23302 non-null int16\n",
      "Date            23302 non-null int16\n",
      "OrderDate       23302 non-null int8\n",
      "Cluster         23302 non-null int8\n",
      "CancelFlag      23302 non-null int8\n",
      "OrderCnt        23302 non-null int8\n",
      "DeliveryType    23302 non-null int8\n",
      "Prepay          23302 non-null int8\n",
      "Count_edit      23302 non-null int8\n",
      "dtypes: int16(3), int8(11)\n",
      "memory usage: 568.9 KB\n"
     ]
    }
   ],
   "source": [
    "#Проверка результатов предыдущего шага\n",
    "\n",
    "exmaple_train_set.info()"
   ]
  },
  {
   "cell_type": "code",
   "execution_count": 8,
   "metadata": {},
   "outputs": [
    {
     "data": {
      "text/html": [
       "<div>\n",
       "<style scoped>\n",
       "    .dataframe tbody tr th:only-of-type {\n",
       "        vertical-align: middle;\n",
       "    }\n",
       "\n",
       "    .dataframe tbody tr th {\n",
       "        vertical-align: top;\n",
       "    }\n",
       "\n",
       "    .dataframe thead th {\n",
       "        text-align: right;\n",
       "    }\n",
       "</style>\n",
       "<table border=\"1\" class=\"dataframe\">\n",
       "  <thead>\n",
       "    <tr style=\"text-align: right;\">\n",
       "      <th></th>\n",
       "      <th>ClientID</th>\n",
       "      <th>ChannelID</th>\n",
       "      <th>OrderID</th>\n",
       "      <th>MaterialID</th>\n",
       "      <th>GroupID</th>\n",
       "      <th>Interval</th>\n",
       "      <th>Date</th>\n",
       "      <th>OrderDate</th>\n",
       "      <th>Cluster</th>\n",
       "      <th>CancelFlag</th>\n",
       "      <th>OrderCnt</th>\n",
       "      <th>DeliveryType</th>\n",
       "      <th>Prepay</th>\n",
       "      <th>Count_edit</th>\n",
       "    </tr>\n",
       "  </thead>\n",
       "  <tbody>\n",
       "    <tr>\n",
       "      <td>0</td>\n",
       "      <td>15</td>\n",
       "      <td>7</td>\n",
       "      <td>6</td>\n",
       "      <td>872</td>\n",
       "      <td>5</td>\n",
       "      <td>917</td>\n",
       "      <td>7462</td>\n",
       "      <td>47</td>\n",
       "      <td>0</td>\n",
       "      <td>2</td>\n",
       "      <td>32</td>\n",
       "      <td>0</td>\n",
       "      <td>2</td>\n",
       "      <td>24</td>\n",
       "    </tr>\n",
       "    <tr>\n",
       "      <td>777</td>\n",
       "      <td>12</td>\n",
       "      <td>0</td>\n",
       "      <td>0</td>\n",
       "      <td>132</td>\n",
       "      <td>3</td>\n",
       "      <td>0</td>\n",
       "      <td>166</td>\n",
       "      <td>28</td>\n",
       "      <td>3</td>\n",
       "      <td>0</td>\n",
       "      <td>0</td>\n",
       "      <td>1</td>\n",
       "      <td>1</td>\n",
       "      <td>0</td>\n",
       "    </tr>\n",
       "    <tr>\n",
       "      <td>778</td>\n",
       "      <td>12</td>\n",
       "      <td>0</td>\n",
       "      <td>0</td>\n",
       "      <td>132</td>\n",
       "      <td>3</td>\n",
       "      <td>0</td>\n",
       "      <td>3675</td>\n",
       "      <td>22</td>\n",
       "      <td>3</td>\n",
       "      <td>0</td>\n",
       "      <td>0</td>\n",
       "      <td>1</td>\n",
       "      <td>1</td>\n",
       "      <td>0</td>\n",
       "    </tr>\n",
       "    <tr>\n",
       "      <td>779</td>\n",
       "      <td>12</td>\n",
       "      <td>0</td>\n",
       "      <td>0</td>\n",
       "      <td>132</td>\n",
       "      <td>3</td>\n",
       "      <td>0</td>\n",
       "      <td>1561</td>\n",
       "      <td>41</td>\n",
       "      <td>3</td>\n",
       "      <td>0</td>\n",
       "      <td>0</td>\n",
       "      <td>1</td>\n",
       "      <td>1</td>\n",
       "      <td>0</td>\n",
       "    </tr>\n",
       "    <tr>\n",
       "      <td>780</td>\n",
       "      <td>12</td>\n",
       "      <td>0</td>\n",
       "      <td>0</td>\n",
       "      <td>132</td>\n",
       "      <td>3</td>\n",
       "      <td>0</td>\n",
       "      <td>3880</td>\n",
       "      <td>27</td>\n",
       "      <td>3</td>\n",
       "      <td>0</td>\n",
       "      <td>12</td>\n",
       "      <td>1</td>\n",
       "      <td>1</td>\n",
       "      <td>0</td>\n",
       "    </tr>\n",
       "  </tbody>\n",
       "</table>\n",
       "</div>"
      ],
      "text/plain": [
       "     ClientID  ChannelID  OrderID  MaterialID  GroupID  Interval  Date  \\\n",
       "0          15          7        6         872        5       917  7462   \n",
       "777        12          0        0         132        3         0   166   \n",
       "778        12          0        0         132        3         0  3675   \n",
       "779        12          0        0         132        3         0  1561   \n",
       "780        12          0        0         132        3         0  3880   \n",
       "\n",
       "     OrderDate  Cluster  CancelFlag  OrderCnt  DeliveryType  Prepay  \\\n",
       "0           47        0           2        32             0       2   \n",
       "777         28        3           0         0             1       1   \n",
       "778         22        3           0         0             1       1   \n",
       "779         41        3           0         0             1       1   \n",
       "780         27        3           0        12             1       1   \n",
       "\n",
       "     Count_edit  \n",
       "0            24  \n",
       "777           0  \n",
       "778           0  \n",
       "779           0  \n",
       "780           0  "
      ]
     },
     "execution_count": 8,
     "metadata": {},
     "output_type": "execute_result"
    }
   ],
   "source": [
    "#Вывод полученного Датасета\n",
    "\n",
    "exmaple_train_set.head()"
   ]
  },
  {
   "cell_type": "code",
   "execution_count": 9,
   "metadata": {},
   "outputs": [],
   "source": [
    "#Убираем из набора данных целевую переменную - CancelFlag\n",
    "\n",
    "import warnings\n",
    "warnings.simplefilter(action='ignore', category=FutureWarning)\n",
    "categorial = exmaple_train_set.pop('CancelFlag')"
   ]
  },
  {
   "cell_type": "code",
   "execution_count": 10,
   "metadata": {},
   "outputs": [],
   "source": [
    "#Таким образом, в датасете остаются только признаки (без предсказуемого значения).\n",
    "#Строим матрицу признаков\n",
    "\n",
    "# DMatrix - это внутренняя структура данных, используемая XGBoost, которая оптимизирована \n",
    "# как по эффективности памяти, так и по скорости обучения\n",
    "\n",
    "xgdmat_example = xgb.DMatrix(exmaple_train_set, categorial)"
   ]
  },
  {
   "cell_type": "code",
   "execution_count": 11,
   "metadata": {},
   "outputs": [
    {
     "data": {
      "text/html": [
       "<div>\n",
       "<style scoped>\n",
       "    .dataframe tbody tr th:only-of-type {\n",
       "        vertical-align: middle;\n",
       "    }\n",
       "\n",
       "    .dataframe tbody tr th {\n",
       "        vertical-align: top;\n",
       "    }\n",
       "\n",
       "    .dataframe thead th {\n",
       "        text-align: right;\n",
       "    }\n",
       "</style>\n",
       "<table border=\"1\" class=\"dataframe\">\n",
       "  <thead>\n",
       "    <tr style=\"text-align: right;\">\n",
       "      <th></th>\n",
       "      <th>train-rmse-mean</th>\n",
       "      <th>train-rmse-std</th>\n",
       "      <th>test-rmse-mean</th>\n",
       "      <th>test-rmse-std</th>\n",
       "    </tr>\n",
       "  </thead>\n",
       "  <tbody>\n",
       "    <tr>\n",
       "      <td>2438</td>\n",
       "      <td>0.012887</td>\n",
       "      <td>0.000672</td>\n",
       "      <td>0.028558</td>\n",
       "      <td>0.009104</td>\n",
       "    </tr>\n",
       "    <tr>\n",
       "      <td>2439</td>\n",
       "      <td>0.012879</td>\n",
       "      <td>0.000670</td>\n",
       "      <td>0.028550</td>\n",
       "      <td>0.009109</td>\n",
       "    </tr>\n",
       "    <tr>\n",
       "      <td>2440</td>\n",
       "      <td>0.012876</td>\n",
       "      <td>0.000668</td>\n",
       "      <td>0.028548</td>\n",
       "      <td>0.009111</td>\n",
       "    </tr>\n",
       "    <tr>\n",
       "      <td>2441</td>\n",
       "      <td>0.012854</td>\n",
       "      <td>0.000660</td>\n",
       "      <td>0.028525</td>\n",
       "      <td>0.009118</td>\n",
       "    </tr>\n",
       "    <tr>\n",
       "      <td>2442</td>\n",
       "      <td>0.012846</td>\n",
       "      <td>0.000661</td>\n",
       "      <td>0.028520</td>\n",
       "      <td>0.009119</td>\n",
       "    </tr>\n",
       "  </tbody>\n",
       "</table>\n",
       "</div>"
      ],
      "text/plain": [
       "      train-rmse-mean  train-rmse-std  test-rmse-mean  test-rmse-std\n",
       "2438         0.012887        0.000672        0.028558       0.009104\n",
       "2439         0.012879        0.000670        0.028550       0.009109\n",
       "2440         0.012876        0.000668        0.028548       0.009111\n",
       "2441         0.012854        0.000660        0.028525       0.009118\n",
       "2442         0.012846        0.000661        0.028520       0.009119"
      ]
     },
     "execution_count": 11,
     "metadata": {},
     "output_type": "execute_result"
    }
   ],
   "source": [
    "# Запускаем кросс-валидацию с определенными мета-параметрами. \n",
    "# На этом этапе строится множество моделей с шагом указанным в nfold, \n",
    "# на подмножествах данного датасета и проверяется их скоринг. \n",
    "# Оптимальное количество раундов получилось 2442. \n",
    "# Это мы используем в следующем шаге для обучения модели.\n",
    "\n",
    "params_example = {\n",
    "    # Комментарии из офицальной документации:\n",
    "    \"eta\" : 0.1, # размер шага. Предотвращает переобучение.\n",
    "    \"seed\" : 0,\n",
    "    \"subsample\" : 0.8, # Коэффициент подвыборки учебного экземпляра.\n",
    "    \"colsample_bytree\" : 0.8,  # Соотношение подвыборок столбцов при построении каждого дерева\n",
    "    \"max_depth\" : 3, # Максимальная глубина дерева для базовых учеников.\n",
    "    \"min_child_weight\": 1 # минимальная сумма веса экземпляра, необходимая ребенку\n",
    "}\n",
    "\n",
    "# В этом случае исходый набор данных разбивается на K одинаковых по размеру блока. \n",
    "# Из K блоков один оставляется для тестирования модели, \n",
    "# а остающиеся K-1 блока используются как тренировочный набор. \n",
    "# Процесс повторяется K раз, и каждый из блоков используется один раз как тестовый набор. \n",
    "# Получаются K результатов, по одному на каждый блок, \n",
    "# они усредняются или комбинируются каким-либо другим способом, и дают одну оценку. \n",
    "# Преимущество такого способа перед случайным сэмплированием (random subsampling) в том, \n",
    "# что все наблюдения используются и для тренировки, и для тестирования модели, \n",
    "# и каждое наблюдение используется для тестирования в точности один раз.\n",
    "\n",
    "#Получаем множестов моделий\n",
    "cv_xgb_example = xgb.cv(params = params_example, #заданные параметры\n",
    "                        dtrain = xgdmat_example, #данные для тренировки\n",
    "                        num_boost_round = 3000, #количесвто итерация для тернирвоки модели\n",
    "                        nfold = 5, #исходный набор данных случайным образом разбивается на n-кратные подвыборки одинакового размера.\n",
    "                        early_stopping_rounds = 10) #если 10 раз не лучше, то остановка\n",
    "cv_xgb_example.tail(5)"
   ]
  },
  {
   "cell_type": "code",
   "execution_count": 12,
   "metadata": {},
   "outputs": [],
   "source": [
    "# Строим модель с наилучшим значеним количеством итераций\n",
    "tree_example = xgb.train(params_example, #заданные параметры \n",
    "                         xgdmat_example, #модель для обучения\n",
    "                         num_boost_round = 2442) #берем последнее(лучшее) значние "
   ]
  },
  {
   "cell_type": "code",
   "execution_count": 13,
   "metadata": {},
   "outputs": [
    {
     "data": {
      "text/plain": [
       "<matplotlib.axes._subplots.AxesSubplot at 0x1a191a9a90>"
      ]
     },
     "execution_count": 13,
     "metadata": {},
     "output_type": "execute_result"
    },
    {
     "data": {
      "image/png": "[encoded data removed]",
      "text/plain": [
       "<Figure size 432x288 with 1 Axes>"
      ]
     },
     "metadata": {},
     "output_type": "display_data"
    }
   ],
   "source": [
    "#Выделяем наиболее важные признаки\n",
    "\n",
    "sns.set(font_scale = 1)\n",
    "xgb.plot_importance(tree_example) #выделяет важные признаки на основе модели"
   ]
  },
  {
   "cell_type": "code",
   "execution_count": 14,
   "metadata": {},
   "outputs": [],
   "source": [
    "# Итак, проделав анализ, мы можем сделать вывод, \n",
    "# что наиболее результирующими признаками.\n",
    "# Теперь выполним то же самое, выбросив мешающие параметры"
   ]
  },
  {
   "cell_type": "code",
   "execution_count": 15,
   "metadata": {},
   "outputs": [],
   "source": [
    "#Чтение данных из датасета только нужных нам данных\n",
    "\n",
    "headers = [\"Interval\",\"Date\",\"OrderDate\",\"Cluster\",\"CancelFlag\",\"OrderCnt\",\"DeliveryType\", \"Prepay\", \"Count_edit\"]\n",
    "train_set = pd.read_csv(\"/Users/alxarsnk/Desktop/AD_zach/train.csv\", \n",
    "                        skiprows=range(1000000,9000000), low_memory = False, header = None, \n",
    "                        names = headers, encoding=\"cp1251\")"
   ]
  },
  {
   "cell_type": "code",
   "execution_count": 16,
   "metadata": {},
   "outputs": [],
   "source": [
    "# Так же выкидываем в датасете все Nan параметры \n",
    "# и категориальные признаки заменяем кодами\n",
    "\n",
    "train_set = train_set.replace(' ?', np.nan).dropna()\n",
    "for feature in train_set.columns:\n",
    "    if train_set[feature].dtype == \"object\":\n",
    "        train_set[feature] = pd.Categorical(train_set[feature]).codes"
   ]
  },
  {
   "cell_type": "code",
   "execution_count": 17,
   "metadata": {
    "scrolled": true
   },
   "outputs": [
    {
     "name": "stdout",
     "output_type": "stream",
     "text": [
      "<class 'pandas.core.frame.DataFrame'>\n",
      "MultiIndex: 23302 entries, (Interval, Date, OrderDate, ClientID, ChannelID) to (8-10., 31/12/2018, 30/12/2018, 93114842, 2)\n",
      "Data columns (total 9 columns):\n",
      "Interval        23302 non-null int16\n",
      "Date            23302 non-null int16\n",
      "OrderDate       23302 non-null int8\n",
      "Cluster         23302 non-null int8\n",
      "CancelFlag      23302 non-null int8\n",
      "OrderCnt        23302 non-null int8\n",
      "DeliveryType    23302 non-null int8\n",
      "Prepay          23302 non-null int8\n",
      "Count_edit      23302 non-null int8\n",
      "dtypes: int16(2), int8(7)\n",
      "memory usage: 500.3+ KB\n"
     ]
    }
   ],
   "source": [
    "# Выведим данные о новом датасете\n",
    "\n",
    "train_set.info()"
   ]
  },
  {
   "cell_type": "code",
   "execution_count": 18,
   "metadata": {},
   "outputs": [],
   "source": [
    "# Снова выбрасываем из датасета целевую переменную и \n",
    "# строим матрицу признаков\n",
    "\n",
    "cancelFlag_df = train_set.copy()\n",
    "yall = cancelFlag_df.pop('CancelFlag')\n",
    "\n",
    "xgdmat = xgb.DMatrix(cancelFlag_df, yall)"
   ]
  },
  {
   "cell_type": "code",
   "execution_count": 19,
   "metadata": {},
   "outputs": [
    {
     "data": {
      "text/html": [
       "<div>\n",
       "<style scoped>\n",
       "    .dataframe tbody tr th:only-of-type {\n",
       "        vertical-align: middle;\n",
       "    }\n",
       "\n",
       "    .dataframe tbody tr th {\n",
       "        vertical-align: top;\n",
       "    }\n",
       "\n",
       "    .dataframe thead th {\n",
       "        text-align: right;\n",
       "    }\n",
       "</style>\n",
       "<table border=\"1\" class=\"dataframe\">\n",
       "  <thead>\n",
       "    <tr style=\"text-align: right;\">\n",
       "      <th></th>\n",
       "      <th>train-rmse-mean</th>\n",
       "      <th>train-rmse-std</th>\n",
       "      <th>test-rmse-mean</th>\n",
       "      <th>test-rmse-std</th>\n",
       "    </tr>\n",
       "  </thead>\n",
       "  <tbody>\n",
       "    <tr>\n",
       "      <td>2089</td>\n",
       "      <td>0.022640</td>\n",
       "      <td>0.000978</td>\n",
       "      <td>0.040695</td>\n",
       "      <td>0.006376</td>\n",
       "    </tr>\n",
       "    <tr>\n",
       "      <td>2090</td>\n",
       "      <td>0.022616</td>\n",
       "      <td>0.000979</td>\n",
       "      <td>0.040673</td>\n",
       "      <td>0.006377</td>\n",
       "    </tr>\n",
       "    <tr>\n",
       "      <td>2091</td>\n",
       "      <td>0.022609</td>\n",
       "      <td>0.000984</td>\n",
       "      <td>0.040670</td>\n",
       "      <td>0.006375</td>\n",
       "    </tr>\n",
       "    <tr>\n",
       "      <td>2092</td>\n",
       "      <td>0.022585</td>\n",
       "      <td>0.000991</td>\n",
       "      <td>0.040659</td>\n",
       "      <td>0.006374</td>\n",
       "    </tr>\n",
       "    <tr>\n",
       "      <td>2093</td>\n",
       "      <td>0.022548</td>\n",
       "      <td>0.000992</td>\n",
       "      <td>0.040602</td>\n",
       "      <td>0.006389</td>\n",
       "    </tr>\n",
       "  </tbody>\n",
       "</table>\n",
       "</div>"
      ],
      "text/plain": [
       "      train-rmse-mean  train-rmse-std  test-rmse-mean  test-rmse-std\n",
       "2089         0.022640        0.000978        0.040695       0.006376\n",
       "2090         0.022616        0.000979        0.040673       0.006377\n",
       "2091         0.022609        0.000984        0.040670       0.006375\n",
       "2092         0.022585        0.000991        0.040659       0.006374\n",
       "2093         0.022548        0.000992        0.040602       0.006389"
      ]
     },
     "execution_count": 19,
     "metadata": {},
     "output_type": "execute_result"
    }
   ],
   "source": [
    "# Запускаем кросс-валидацию  с теми же параметрами, но\n",
    "# для нового датасета\n",
    "\n",
    "params = {\n",
    "    \"eta\" : 0.1,\n",
    "    \"seed\" : 0,\n",
    "    \"subsample\" : 0.8,\n",
    "    \"colsample_bytree\" : 0.8,\n",
    "    \"max_depth\" : 3,\n",
    "    \"min_child_weight\": 1\n",
    "}\n",
    "\n",
    "cv_xgb = xgb.cv(params = params, dtrain = xgdmat, num_boost_round = 3000, nfold = 5, early_stopping_rounds = 10)\n",
    "cv_xgb.tail(5)"
   ]
  },
  {
   "cell_type": "code",
   "execution_count": 20,
   "metadata": {},
   "outputs": [
    {
     "data": {
      "text/plain": [
       "<matplotlib.axes._subplots.AxesSubplot at 0x1a1a57c190>"
      ]
     },
     "execution_count": 20,
     "metadata": {},
     "output_type": "execute_result"
    },
    {
     "data": {
      "image/png": "[encoded data removed]",
      "text/plain": [
       "<Figure size 432x288 with 1 Axes>"
      ]
     },
     "metadata": {},
     "output_type": "display_data"
    }
   ],
   "source": [
    "# Обучаем модель и строим график наиболее значимых признаков, чтобы убедиться\n",
    "# что отбросив лишние параметры, все ОК\n",
    "\n",
    "tree = xgb.train(params, xgdmat, num_boost_round = 2093)\n",
    "sns.set(font_scale = 1)\n",
    "xgb.plot_importance(tree)"
   ]
  },
  {
   "cell_type": "code",
   "execution_count": 21,
   "metadata": {},
   "outputs": [
    {
     "data": {
      "text/plain": [
       "14-16.  26/12/2018  25/12/2018  91018908  2    0\n",
       "                                          2    0\n",
       "                                          2    0\n",
       "                                          2    0\n",
       "                                          2    0\n",
       "                                              ..\n",
       "8-10.   31/12/2018  30/12/2018  93114842  2    0\n",
       "                                          2    0\n",
       "                                          2    0\n",
       "                                          2    0\n",
       "                                          2    0\n",
       "Name: CancelFlag, Length: 223185, dtype: int64"
      ]
     },
     "execution_count": 21,
     "metadata": {},
     "output_type": "execute_result"
    }
   ],
   "source": [
    "# Выбираем тестовый датасет, в который входят последние 300 тысяч строк\n",
    "# Сохраняем колонку с целевой переменной и выбрасываем ее из датасета\n",
    "\n",
    "test_set = pd.read_csv(\"/Users/alxarsnk/Desktop/AD_zach/train.csv\", skiprows=range(0,8800000), low_memory = False, header = None, names = headers, encoding=\"cp1251\")\n",
    "answers = test_set[\"CancelFlag\"].values\n",
    "test_set.pop(\"CancelFlag\")"
   ]
  },
  {
   "cell_type": "code",
   "execution_count": 22,
   "metadata": {},
   "outputs": [],
   "source": [
    "# Удаляем в тестовом датасете все Nan параметры\n",
    "\n",
    "test_set = test_set.replace(' ?', np.nan).dropna()\n",
    "for feature in test_set.columns:\n",
    "    if test_set[feature].dtype == \"object\":\n",
    "        test_set[feature] = pd.Categorical(test_set[feature]).codes\n"
   ]
  },
  {
   "cell_type": "code",
   "execution_count": 23,
   "metadata": {},
   "outputs": [
    {
     "name": "stdout",
     "output_type": "stream",
     "text": [
      "ANSWER For Logistic IS 93.10%\n",
      "ANSWER For Linear IS 0.00%\n"
     ]
    }
   ],
   "source": [
    "# На данном этапе происходит мы берем данные для обучения \n",
    "# и создаем модель, которая будет предсказывать наш CancelFlag\n",
    "# Берем первые четыре признака для обучения. По ним далее и будем предсказывать\n",
    "\n",
    "\n",
    "from sklearn.linear_model import LogisticRegression\n",
    "from sklearn.datasets.samples_generator import make_blobs\n",
    "\n",
    "x = train_set[[\"Interval\",\"Date\", \"Count_edit\",\"OrderDate\"]].values\n",
    "y = train_set[\"CancelFlag\"].values\n",
    "for el in y:\n",
    "    if el == 2: \n",
    "        el = 1\n",
    "\n",
    "\n",
    "logic_model = LogisticRegression()\n",
    "logic_model.fit(x, y)\n",
    "\n",
    "#Берем тестовые данные и просим модель предсказать нам CancelFlag\n",
    "\n",
    "Xtest = test_set[[\"Interval\",\"Date\", \"Count_edit\",\"OrderDate\"]].values\n",
    "Ytest_logic = logic_model.predict(Xtest)\n",
    "\n",
    "\n",
    "#Считаем количество занчение совпавших в реальном столбце с предсказанными\n",
    "\n",
    "right_logic = 0\n",
    "for i in range(0, Ytest_logic.size):\n",
    "    if Ytest_logic[i] == answers[i]:\n",
    "        right_logic = right_logic + 1\n",
    "        \n",
    "# Получаем процент правильности обученной модели для логистичсекой регресси\n",
    "print(\"ANSWER For Logistic IS %.2f%%\" % (right_logic/Ytest_logic.size*100))\n",
    "\n",
    "\n"
   ]
  },
  {
   "cell_type": "code",
   "execution_count": null,
   "metadata": {},
   "outputs": [],
   "source": []
  },
  {
   "cell_type": "code",
   "execution_count": null,
   "metadata": {},
   "outputs": [],
   "source": []
  }
 ],
 "metadata": {
  "kernelspec": {
   "display_name": "Python 3",
   "language": "python",
   "name": "python3"
  },
  "language_info": {
   "codemirror_mode": {
    "name": "ipython",
    "version": 3
   },
   "file_extension": ".py",
   "mimetype": "text/x-python",
   "name": "python",
   "nbconvert_exporter": "python",
   "pygments_lexer": "ipython3",
   "version": "3.7.4"
  }
 },
 "nbformat": 4,
 "nbformat_minor": 2
}
