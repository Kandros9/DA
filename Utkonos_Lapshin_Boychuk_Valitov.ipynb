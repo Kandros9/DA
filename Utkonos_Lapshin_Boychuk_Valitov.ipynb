{
 "cells": [
  {
   "cell_type": "markdown",
   "metadata": {},
   "source": [
    "Онлайн-гипермаркет «Утконос» – это сервис доставки продуктов нового поколения, совмещающий традиционные и современные технологии розничной торговли. Утконос был создан в 2000 году и на данный момент является одним из лидеров e-grocery на российском рынке.\n",
    "\n",
    "**Задача**, которую нам нужно решить - прогнозирование вероятности отказа клиента от заказа без учета времени и стадии формирования заказа."
   ]
  },
  {
   "cell_type": "markdown",
   "metadata": {},
   "source": [
    "Подключаем нужные нам для работы библиотеки, скачиваем датасет:"
   ]
  },
  {
   "cell_type": "code",
   "execution_count": 1,
   "metadata": {},
   "outputs": [],
   "source": [
    "import pandas as pd\n",
    "import numpy as np\n",
    "import datetime\n",
    "import glob\n",
    "import lightgbm as lgb\n",
    "from sklearn.model_selection import train_test_split\n",
    "from sklearn.metrics import roc_auc_score"
   ]
  },
  {
   "cell_type": "markdown",
   "metadata": {},
   "source": [
    "Снизу небольшая таблица о том, какие у нас есть данные:"
   ]
  },
  {
   "cell_type": "markdown",
   "metadata": {},
   "source": [
    "|              \t|                                      Данные                                     \t|\n",
    "|:------------:\t|:-------------------------------------------------------------------------------:\t|\n",
    "| Date         \t| Плановая дата доставки до клиента                                               \t|\n",
    "| DateOrder    \t| Дата оформления заказа                                                          \t|\n",
    "| ClientID     \t| ID клиента                                                                      \t|\n",
    "| ChannelID    \t| ID канала сбыта                                                                 \t|\n",
    "| OrderID      \t| ID заказа, присваиваемый сайтом                                                 \t|\n",
    "| MaterialID   \t| ID материала                                                                    \t|\n",
    "| DeliveryType \t| Тип доставки                                                                    \t|\n",
    "| Cluster      \t| Кластер доставки                                                                \t|\n",
    "| Interval     \t| Временной интервал доставки (с/до)                                              \t|\n",
    "| CancelFlag   \t| Метка отмены заказов(целевая переменная для первого этапа)                      \t|\n",
    "| OrderCnt     \t| Количество заказанных предметов                                                 \t|\n",
    "| Prepay       \t| Признак предоплаты                                                              \t|\n",
    "| Count_edit   \t| Число редактирований заказа клиентом, значение \"1\" означает первоначальный ввод \t|"
   ]
  },
  {
   "cell_type": "markdown",
   "metadata": {},
   "source": [
    "Первым делом загрузим данные из .csv файла :"
   ]
  },
  {
   "cell_type": "code",
   "execution_count": 2,
   "metadata": {},
   "outputs": [],
   "source": [
    "data = pd.read_csv('train.csv', encoding='cp1251', low_memory=False)"
   ]
  },
  {
   "cell_type": "markdown",
   "metadata": {},
   "source": [
    "Теперь ознакомимся с данными:"
   ]
  },
  {
   "cell_type": "code",
   "execution_count": 3,
   "metadata": {
    "scrolled": true
   },
   "outputs": [
    {
     "data": {
      "text/html": [
       "<div>\n",
       "<style scoped>\n",
       "    .dataframe tbody tr th:only-of-type {\n",
       "        vertical-align: middle;\n",
       "    }\n",
       "\n",
       "    .dataframe tbody tr th {\n",
       "        vertical-align: top;\n",
       "    }\n",
       "\n",
       "    .dataframe thead th {\n",
       "        text-align: right;\n",
       "    }\n",
       "</style>\n",
       "<table border=\"1\" class=\"dataframe\">\n",
       "  <thead>\n",
       "    <tr style=\"text-align: right;\">\n",
       "      <th></th>\n",
       "      <th>Interval</th>\n",
       "      <th>Date</th>\n",
       "      <th>OrderDate</th>\n",
       "      <th>ClientID</th>\n",
       "      <th>ChannelID</th>\n",
       "      <th>OrderID</th>\n",
       "      <th>MaterialID</th>\n",
       "      <th>GroupID</th>\n",
       "      <th>Cluster</th>\n",
       "      <th>CancelFlag</th>\n",
       "      <th>OrderCnt</th>\n",
       "      <th>DeliveryType</th>\n",
       "      <th>prepay</th>\n",
       "      <th>count_edit</th>\n",
       "    </tr>\n",
       "  </thead>\n",
       "  <tbody>\n",
       "    <tr>\n",
       "      <th>0</th>\n",
       "      <td>14-16.</td>\n",
       "      <td>03/10/2018</td>\n",
       "      <td>02/10/2018</td>\n",
       "      <td>93808186</td>\n",
       "      <td>2</td>\n",
       "      <td>90102063002</td>\n",
       "      <td>3328810.0</td>\n",
       "      <td>61.0</td>\n",
       "      <td>NaN</td>\n",
       "      <td>0</td>\n",
       "      <td>1.0</td>\n",
       "      <td>Обычная доставка</td>\n",
       "      <td>0</td>\n",
       "      <td>1</td>\n",
       "    </tr>\n",
       "    <tr>\n",
       "      <th>1</th>\n",
       "      <td>14-16.</td>\n",
       "      <td>03/10/2018</td>\n",
       "      <td>02/10/2018</td>\n",
       "      <td>93808186</td>\n",
       "      <td>2</td>\n",
       "      <td>90102063002</td>\n",
       "      <td>3281258.0</td>\n",
       "      <td>30.0</td>\n",
       "      <td>NaN</td>\n",
       "      <td>0</td>\n",
       "      <td>2.0</td>\n",
       "      <td>Обычная доставка</td>\n",
       "      <td>0</td>\n",
       "      <td>1</td>\n",
       "    </tr>\n",
       "    <tr>\n",
       "      <th>2</th>\n",
       "      <td>14-16.</td>\n",
       "      <td>03/10/2018</td>\n",
       "      <td>02/10/2018</td>\n",
       "      <td>93808186</td>\n",
       "      <td>2</td>\n",
       "      <td>90102063002</td>\n",
       "      <td>3210734.0</td>\n",
       "      <td>10.0</td>\n",
       "      <td>NaN</td>\n",
       "      <td>0</td>\n",
       "      <td>1.0</td>\n",
       "      <td>Обычная доставка</td>\n",
       "      <td>0</td>\n",
       "      <td>1</td>\n",
       "    </tr>\n",
       "    <tr>\n",
       "      <th>3</th>\n",
       "      <td>14-16.</td>\n",
       "      <td>03/10/2018</td>\n",
       "      <td>02/10/2018</td>\n",
       "      <td>93808186</td>\n",
       "      <td>2</td>\n",
       "      <td>90102063002</td>\n",
       "      <td>3328848.0</td>\n",
       "      <td>61.0</td>\n",
       "      <td>NaN</td>\n",
       "      <td>0</td>\n",
       "      <td>2.0</td>\n",
       "      <td>Обычная доставка</td>\n",
       "      <td>0</td>\n",
       "      <td>1</td>\n",
       "    </tr>\n",
       "    <tr>\n",
       "      <th>4</th>\n",
       "      <td>12-14.</td>\n",
       "      <td>07/10/2018</td>\n",
       "      <td>05/10/2018</td>\n",
       "      <td>94112406</td>\n",
       "      <td>2</td>\n",
       "      <td>90102091007</td>\n",
       "      <td>3347801.0</td>\n",
       "      <td>17.0</td>\n",
       "      <td>NaN</td>\n",
       "      <td>0</td>\n",
       "      <td>10.0</td>\n",
       "      <td>Обычная доставка</td>\n",
       "      <td>0</td>\n",
       "      <td>1</td>\n",
       "    </tr>\n",
       "    <tr>\n",
       "      <th>5</th>\n",
       "      <td>12-14.</td>\n",
       "      <td>07/10/2018</td>\n",
       "      <td>05/10/2018</td>\n",
       "      <td>94112406</td>\n",
       "      <td>2</td>\n",
       "      <td>90102091007</td>\n",
       "      <td>3044324.0</td>\n",
       "      <td>11.0</td>\n",
       "      <td>NaN</td>\n",
       "      <td>0</td>\n",
       "      <td>6.0</td>\n",
       "      <td>Обычная доставка</td>\n",
       "      <td>0</td>\n",
       "      <td>1</td>\n",
       "    </tr>\n",
       "    <tr>\n",
       "      <th>6</th>\n",
       "      <td>12-14.</td>\n",
       "      <td>07/10/2018</td>\n",
       "      <td>05/10/2018</td>\n",
       "      <td>94112406</td>\n",
       "      <td>2</td>\n",
       "      <td>90102091007</td>\n",
       "      <td>3347802.0</td>\n",
       "      <td>17.0</td>\n",
       "      <td>NaN</td>\n",
       "      <td>0</td>\n",
       "      <td>7.0</td>\n",
       "      <td>Обычная доставка</td>\n",
       "      <td>0</td>\n",
       "      <td>1</td>\n",
       "    </tr>\n",
       "    <tr>\n",
       "      <th>7</th>\n",
       "      <td>12-14.</td>\n",
       "      <td>07/10/2018</td>\n",
       "      <td>05/10/2018</td>\n",
       "      <td>94112406</td>\n",
       "      <td>2</td>\n",
       "      <td>90102091007</td>\n",
       "      <td>3076533.0</td>\n",
       "      <td>63.0</td>\n",
       "      <td>NaN</td>\n",
       "      <td>0</td>\n",
       "      <td>4.0</td>\n",
       "      <td>Обычная доставка</td>\n",
       "      <td>0</td>\n",
       "      <td>1</td>\n",
       "    </tr>\n",
       "    <tr>\n",
       "      <th>8</th>\n",
       "      <td>12-14.</td>\n",
       "      <td>07/10/2018</td>\n",
       "      <td>05/10/2018</td>\n",
       "      <td>94112406</td>\n",
       "      <td>2</td>\n",
       "      <td>90102091007</td>\n",
       "      <td>3155553.0</td>\n",
       "      <td>23.0</td>\n",
       "      <td>NaN</td>\n",
       "      <td>0</td>\n",
       "      <td>1.0</td>\n",
       "      <td>Обычная доставка</td>\n",
       "      <td>0</td>\n",
       "      <td>1</td>\n",
       "    </tr>\n",
       "    <tr>\n",
       "      <th>9</th>\n",
       "      <td>19-21.</td>\n",
       "      <td>05/10/2018</td>\n",
       "      <td>05/10/2018</td>\n",
       "      <td>93696397</td>\n",
       "      <td>2</td>\n",
       "      <td>90102092000</td>\n",
       "      <td>3344245.0</td>\n",
       "      <td>5.0</td>\n",
       "      <td>NaN</td>\n",
       "      <td>0</td>\n",
       "      <td>1.0</td>\n",
       "      <td>Доставка День в День</td>\n",
       "      <td>0</td>\n",
       "      <td>1</td>\n",
       "    </tr>\n",
       "    <tr>\n",
       "      <th>10</th>\n",
       "      <td>19-21.</td>\n",
       "      <td>05/10/2018</td>\n",
       "      <td>05/10/2018</td>\n",
       "      <td>93696397</td>\n",
       "      <td>2</td>\n",
       "      <td>90102092000</td>\n",
       "      <td>3195824.0</td>\n",
       "      <td>13.0</td>\n",
       "      <td>NaN</td>\n",
       "      <td>0</td>\n",
       "      <td>3.0</td>\n",
       "      <td>Доставка День в День</td>\n",
       "      <td>0</td>\n",
       "      <td>1</td>\n",
       "    </tr>\n",
       "    <tr>\n",
       "      <th>11</th>\n",
       "      <td>19-21.</td>\n",
       "      <td>05/10/2018</td>\n",
       "      <td>05/10/2018</td>\n",
       "      <td>93696397</td>\n",
       "      <td>2</td>\n",
       "      <td>90102092000</td>\n",
       "      <td>3166509.0</td>\n",
       "      <td>35.0</td>\n",
       "      <td>NaN</td>\n",
       "      <td>0</td>\n",
       "      <td>3.0</td>\n",
       "      <td>Доставка День в День</td>\n",
       "      <td>0</td>\n",
       "      <td>1</td>\n",
       "    </tr>\n",
       "    <tr>\n",
       "      <th>12</th>\n",
       "      <td>19-21.</td>\n",
       "      <td>05/10/2018</td>\n",
       "      <td>05/10/2018</td>\n",
       "      <td>93696397</td>\n",
       "      <td>2</td>\n",
       "      <td>90102092000</td>\n",
       "      <td>3071629.0</td>\n",
       "      <td>19.0</td>\n",
       "      <td>NaN</td>\n",
       "      <td>0</td>\n",
       "      <td>2.0</td>\n",
       "      <td>Доставка День в День</td>\n",
       "      <td>0</td>\n",
       "      <td>1</td>\n",
       "    </tr>\n",
       "    <tr>\n",
       "      <th>13</th>\n",
       "      <td>19-21.</td>\n",
       "      <td>05/10/2018</td>\n",
       "      <td>05/10/2018</td>\n",
       "      <td>93696397</td>\n",
       "      <td>2</td>\n",
       "      <td>90102092000</td>\n",
       "      <td>3331665.0</td>\n",
       "      <td>11.0</td>\n",
       "      <td>NaN</td>\n",
       "      <td>0</td>\n",
       "      <td>1.0</td>\n",
       "      <td>Доставка День в День</td>\n",
       "      <td>0</td>\n",
       "      <td>1</td>\n",
       "    </tr>\n",
       "    <tr>\n",
       "      <th>14</th>\n",
       "      <td>19-21.</td>\n",
       "      <td>05/10/2018</td>\n",
       "      <td>05/10/2018</td>\n",
       "      <td>93696397</td>\n",
       "      <td>2</td>\n",
       "      <td>90102092000</td>\n",
       "      <td>3209011.0</td>\n",
       "      <td>15.0</td>\n",
       "      <td>NaN</td>\n",
       "      <td>0</td>\n",
       "      <td>1.0</td>\n",
       "      <td>Доставка День в День</td>\n",
       "      <td>0</td>\n",
       "      <td>1</td>\n",
       "    </tr>\n",
       "  </tbody>\n",
       "</table>\n",
       "</div>"
      ],
      "text/plain": [
       "   Interval        Date   OrderDate  ClientID  ChannelID      OrderID  \\\n",
       "0    14-16.  03/10/2018  02/10/2018  93808186          2  90102063002   \n",
       "1    14-16.  03/10/2018  02/10/2018  93808186          2  90102063002   \n",
       "2    14-16.  03/10/2018  02/10/2018  93808186          2  90102063002   \n",
       "3    14-16.  03/10/2018  02/10/2018  93808186          2  90102063002   \n",
       "4    12-14.  07/10/2018  05/10/2018  94112406          2  90102091007   \n",
       "5    12-14.  07/10/2018  05/10/2018  94112406          2  90102091007   \n",
       "6    12-14.  07/10/2018  05/10/2018  94112406          2  90102091007   \n",
       "7    12-14.  07/10/2018  05/10/2018  94112406          2  90102091007   \n",
       "8    12-14.  07/10/2018  05/10/2018  94112406          2  90102091007   \n",
       "9    19-21.  05/10/2018  05/10/2018  93696397          2  90102092000   \n",
       "10   19-21.  05/10/2018  05/10/2018  93696397          2  90102092000   \n",
       "11   19-21.  05/10/2018  05/10/2018  93696397          2  90102092000   \n",
       "12   19-21.  05/10/2018  05/10/2018  93696397          2  90102092000   \n",
       "13   19-21.  05/10/2018  05/10/2018  93696397          2  90102092000   \n",
       "14   19-21.  05/10/2018  05/10/2018  93696397          2  90102092000   \n",
       "\n",
       "    MaterialID  GroupID Cluster  CancelFlag  OrderCnt          DeliveryType  \\\n",
       "0    3328810.0     61.0     NaN           0       1.0      Обычная доставка   \n",
       "1    3281258.0     30.0     NaN           0       2.0      Обычная доставка   \n",
       "2    3210734.0     10.0     NaN           0       1.0      Обычная доставка   \n",
       "3    3328848.0     61.0     NaN           0       2.0      Обычная доставка   \n",
       "4    3347801.0     17.0     NaN           0      10.0      Обычная доставка   \n",
       "5    3044324.0     11.0     NaN           0       6.0      Обычная доставка   \n",
       "6    3347802.0     17.0     NaN           0       7.0      Обычная доставка   \n",
       "7    3076533.0     63.0     NaN           0       4.0      Обычная доставка   \n",
       "8    3155553.0     23.0     NaN           0       1.0      Обычная доставка   \n",
       "9    3344245.0      5.0     NaN           0       1.0  Доставка День в День   \n",
       "10   3195824.0     13.0     NaN           0       3.0  Доставка День в День   \n",
       "11   3166509.0     35.0     NaN           0       3.0  Доставка День в День   \n",
       "12   3071629.0     19.0     NaN           0       2.0  Доставка День в День   \n",
       "13   3331665.0     11.0     NaN           0       1.0  Доставка День в День   \n",
       "14   3209011.0     15.0     NaN           0       1.0  Доставка День в День   \n",
       "\n",
       "    prepay  count_edit  \n",
       "0        0           1  \n",
       "1        0           1  \n",
       "2        0           1  \n",
       "3        0           1  \n",
       "4        0           1  \n",
       "5        0           1  \n",
       "6        0           1  \n",
       "7        0           1  \n",
       "8        0           1  \n",
       "9        0           1  \n",
       "10       0           1  \n",
       "11       0           1  \n",
       "12       0           1  \n",
       "13       0           1  \n",
       "14       0           1  "
      ]
     },
     "execution_count": 3,
     "metadata": {},
     "output_type": "execute_result"
    }
   ],
   "source": [
    "data.head(15)"
   ]
  },
  {
   "cell_type": "markdown",
   "metadata": {},
   "source": [
    "Немного изменим данные для дальнейшей работы - удалим столбец ClientID, т.к информация в нем не влияет на отказ от заказа, также поправим Interval, чтобы было удобнее обрабатывать:"
   ]
  },
  {
   "cell_type": "code",
   "execution_count": 4,
   "metadata": {},
   "outputs": [],
   "source": [
    "data = data.drop(['ClientID'], axis=1)\n",
    "tmp = data['Interval'].str.split('-')\n",
    "data['int0']=tmp.apply(lambda x: int(x[0]))\n",
    "data['int1']=tmp.apply(lambda x: int(x[1][:-1]))\n",
    "del data['Interval']"
   ]
  },
  {
   "cell_type": "markdown",
   "metadata": {},
   "source": [
    "Взглянем, сколько времени в днях длилась доставка от момента заказа до выдачи:"
   ]
  },
  {
   "cell_type": "code",
   "execution_count": 5,
   "metadata": {},
   "outputs": [],
   "source": [
    "orderDate = data.OrderDate.apply (lambda x: datetime.datetime.strptime (x, '%d/%m/%Y'))\n",
    "date = data.Date.apply (lambda x: datetime.datetime.strptime (x, '%d/%m/%Y'))\n",
    "data['delivery_days'] = (date-orderDate).dt.days.astype(int).values"
   ]
  },
  {
   "cell_type": "code",
   "execution_count": 6,
   "metadata": {},
   "outputs": [
    {
     "data": {
      "text/plain": [
       "0    1\n",
       "1    1\n",
       "2    1\n",
       "3    1\n",
       "4    2\n",
       "5    2\n",
       "6    2\n",
       "7    2\n",
       "8    2\n",
       "9    0\n",
       "Name: delivery_days, dtype: int32"
      ]
     },
     "execution_count": 6,
     "metadata": {},
     "output_type": "execute_result"
    }
   ],
   "source": [
    "data['delivery_days'].head(10)"
   ]
  },
  {
   "cell_type": "markdown",
   "metadata": {},
   "source": [
    "Теперь поманипулируем датой: создадим переменную *orderDay* для того, чтобы в ней хранился день заказа\n",
    "Также, создадим переменную *day*, тут будет информация о дне, когда заказ был отмененён или доставлен\n",
    "После этого, удалим *data['Date']* и *data['OrderDate']* , т.к. точная дата заказа никак не влияет на закономерность, что впринципе было и указано в задаче"
   ]
  },
  {
   "cell_type": "code",
   "execution_count": 7,
   "metadata": {},
   "outputs": [],
   "source": [
    "orderDay = data['OrderDate'].apply(lambda x: datetime.datetime.strptime(x, '%d/%m/%Y').weekday())\n",
    "day = data['Date'].apply(lambda x: datetime.datetime.strptime(x, '%d/%m/%Y').weekday())\n",
    "data['orderDay'] = orderDay\n",
    "data['day'] = day\n",
    "\n",
    "del data['Date']\n",
    "del data['OrderDate']"
   ]
  },
  {
   "cell_type": "markdown",
   "metadata": {},
   "source": [
    "Еще немного поработаем на интервалами (это мы по-джентльменски позаимствовали у нашего товарища), сперва найдем середины интервалов, дабы определить время суток, в которое был совершен заказ"
   ]
  },
  {
   "cell_type": "code",
   "execution_count": 8,
   "metadata": {},
   "outputs": [],
   "source": [
    "interval_low = data['int0']\n",
    "interval_high = data['int1']\n",
    "interval_avg = (interval_high + interval_low) / 2"
   ]
  },
  {
   "cell_type": "markdown",
   "metadata": {},
   "source": [
    "Теперь разобьем время на 4 интервала: утро, день, вечер и ночь"
   ]
  },
  {
   "cell_type": "code",
   "execution_count": 9,
   "metadata": {},
   "outputs": [],
   "source": [
    "morning = list(range(6, 12))\n",
    "day = list(range(12, 18))\n",
    "evening = list(range(18, 24))\n",
    "night = [24] + list(range(1, 6))\n",
    "\n",
    "morning = interval_avg.isin(morning)\n",
    "day = interval_avg.isin(day)\n",
    "evening = interval_avg.isin(evening)\n",
    "night = interval_avg.isin(night)\n",
    "\n",
    "data['interval_low'] = interval_low\n",
    "data['interval_high'] = interval_high\n",
    "data['interval_avg'] = interval_avg\n",
    "data['morning'] = morning.apply(lambda x: 1 if x else 0)\n",
    "data['dayTime'] = day.apply(lambda x: 1 if x else 0)\n",
    "data['evening'] = evening.apply(lambda x: 1 if x else 0)\n",
    "data['night'] = night.apply(lambda x: 1 if x else 0)"
   ]
  },
  {
   "cell_type": "markdown",
   "metadata": {},
   "source": [
    "Теперь надо понять в какой день недели был сделан заказ, а также необходимо сократить количество редактирований заказа на 1, чтобы избавиться от значения \"1\", которое обозначает только первоначальный ввод"
   ]
  },
  {
   "cell_type": "code",
   "execution_count": 10,
   "metadata": {},
   "outputs": [],
   "source": [
    "data['is_order_weekend'] = data['orderDay'].apply(lambda x: 1 if x in [5,6] else 0)\n",
    "data['is_weekend'] = data['day'].apply(lambda x: 1 if x in [5,6] else 0)\n",
    "data['count_edit'] -= 1"
   ]
  },
  {
   "cell_type": "markdown",
   "metadata": {},
   "source": [
    "Последним стоит поменять качественный признак DeliveryType на количественный:"
   ]
  },
  {
   "cell_type": "code",
   "execution_count": 12,
   "metadata": {},
   "outputs": [],
   "source": [
    "data['DeliveryType'] = data['DeliveryType'].map({'Обычная доставка': 0, 'Доставка День в День': 1})"
   ]
  },
  {
   "cell_type": "markdown",
   "metadata": {},
   "source": [
    "Посмотрим баланс выборки и как распределены данные по нашему критерию:"
   ]
  },
  {
   "cell_type": "code",
   "execution_count": 14,
   "metadata": {},
   "outputs": [
    {
     "data": {
      "text/html": [
       "<div>\n",
       "<style scoped>\n",
       "    .dataframe tbody tr th:only-of-type {\n",
       "        vertical-align: middle;\n",
       "    }\n",
       "\n",
       "    .dataframe tbody tr th {\n",
       "        vertical-align: top;\n",
       "    }\n",
       "\n",
       "    .dataframe thead th {\n",
       "        text-align: right;\n",
       "    }\n",
       "</style>\n",
       "<table border=\"1\" class=\"dataframe\">\n",
       "  <thead>\n",
       "    <tr style=\"text-align: right;\">\n",
       "      <th></th>\n",
       "      <th>ChannelID</th>\n",
       "      <th>OrderID</th>\n",
       "      <th>MaterialID</th>\n",
       "      <th>GroupID</th>\n",
       "      <th>Cluster</th>\n",
       "      <th>OrderCnt</th>\n",
       "      <th>DeliveryType</th>\n",
       "      <th>prepay</th>\n",
       "      <th>count_edit</th>\n",
       "      <th>int0</th>\n",
       "      <th>...</th>\n",
       "      <th>day</th>\n",
       "      <th>interval_low</th>\n",
       "      <th>interval_high</th>\n",
       "      <th>interval_avg</th>\n",
       "      <th>morning</th>\n",
       "      <th>dayTime</th>\n",
       "      <th>evening</th>\n",
       "      <th>night</th>\n",
       "      <th>is_order_weekend</th>\n",
       "      <th>is_weekend</th>\n",
       "    </tr>\n",
       "    <tr>\n",
       "      <th>CancelFlag</th>\n",
       "      <th></th>\n",
       "      <th></th>\n",
       "      <th></th>\n",
       "      <th></th>\n",
       "      <th></th>\n",
       "      <th></th>\n",
       "      <th></th>\n",
       "      <th></th>\n",
       "      <th></th>\n",
       "      <th></th>\n",
       "      <th></th>\n",
       "      <th></th>\n",
       "      <th></th>\n",
       "      <th></th>\n",
       "      <th></th>\n",
       "      <th></th>\n",
       "      <th></th>\n",
       "      <th></th>\n",
       "      <th></th>\n",
       "      <th></th>\n",
       "      <th></th>\n",
       "    </tr>\n",
       "  </thead>\n",
       "  <tbody>\n",
       "    <tr>\n",
       "      <th>0</th>\n",
       "      <td>8519074</td>\n",
       "      <td>8519074</td>\n",
       "      <td>8518991</td>\n",
       "      <td>8518991</td>\n",
       "      <td>3168524</td>\n",
       "      <td>8518991</td>\n",
       "      <td>8519074</td>\n",
       "      <td>8519074</td>\n",
       "      <td>8519074</td>\n",
       "      <td>8519074</td>\n",
       "      <td>...</td>\n",
       "      <td>8519074</td>\n",
       "      <td>8519074</td>\n",
       "      <td>8519074</td>\n",
       "      <td>8519074</td>\n",
       "      <td>8519074</td>\n",
       "      <td>8519074</td>\n",
       "      <td>8519074</td>\n",
       "      <td>8519074</td>\n",
       "      <td>8519074</td>\n",
       "      <td>8519074</td>\n",
       "    </tr>\n",
       "    <tr>\n",
       "      <th>1</th>\n",
       "      <td>504110</td>\n",
       "      <td>504110</td>\n",
       "      <td>504088</td>\n",
       "      <td>504088</td>\n",
       "      <td>182592</td>\n",
       "      <td>504088</td>\n",
       "      <td>504110</td>\n",
       "      <td>504110</td>\n",
       "      <td>504110</td>\n",
       "      <td>504110</td>\n",
       "      <td>...</td>\n",
       "      <td>504110</td>\n",
       "      <td>504110</td>\n",
       "      <td>504110</td>\n",
       "      <td>504110</td>\n",
       "      <td>504110</td>\n",
       "      <td>504110</td>\n",
       "      <td>504110</td>\n",
       "      <td>504110</td>\n",
       "      <td>504110</td>\n",
       "      <td>504110</td>\n",
       "    </tr>\n",
       "  </tbody>\n",
       "</table>\n",
       "<p>2 rows × 23 columns</p>\n",
       "</div>"
      ],
      "text/plain": [
       "            ChannelID  OrderID  MaterialID  GroupID  Cluster  OrderCnt  \\\n",
       "CancelFlag                                                               \n",
       "0             8519074  8519074     8518991  8518991  3168524   8518991   \n",
       "1              504110   504110      504088   504088   182592    504088   \n",
       "\n",
       "            DeliveryType   prepay  count_edit     int0  ...      day  \\\n",
       "CancelFlag                                              ...            \n",
       "0                8519074  8519074     8519074  8519074  ...  8519074   \n",
       "1                 504110   504110      504110   504110  ...   504110   \n",
       "\n",
       "            interval_low  interval_high  interval_avg  morning  dayTime  \\\n",
       "CancelFlag                                                                \n",
       "0                8519074        8519074       8519074  8519074  8519074   \n",
       "1                 504110         504110        504110   504110   504110   \n",
       "\n",
       "            evening    night  is_order_weekend  is_weekend  \n",
       "CancelFlag                                                  \n",
       "0           8519074  8519074           8519074     8519074  \n",
       "1            504110   504110            504110      504110  \n",
       "\n",
       "[2 rows x 23 columns]"
      ]
     },
     "execution_count": 14,
     "metadata": {},
     "output_type": "execute_result"
    }
   ],
   "source": [
    "data.groupby('CancelFlag').count()"
   ]
  },
  {
   "cell_type": "markdown",
   "metadata": {},
   "source": [
    "Выведем данные о наших данных :)"
   ]
  },
  {
   "cell_type": "code",
   "execution_count": 15,
   "metadata": {},
   "outputs": [
    {
     "name": "stdout",
     "output_type": "stream",
     "text": [
      "<class 'pandas.core.frame.DataFrame'>\n",
      "RangeIndex: 9023184 entries, 0 to 9023183\n",
      "Data columns (total 24 columns):\n",
      "ChannelID           int64\n",
      "OrderID             int64\n",
      "MaterialID          float64\n",
      "GroupID             float64\n",
      "Cluster             object\n",
      "CancelFlag          int64\n",
      "OrderCnt            float64\n",
      "DeliveryType        int64\n",
      "prepay              int64\n",
      "count_edit          int64\n",
      "int0                int64\n",
      "int1                int64\n",
      "delivery_days       int32\n",
      "orderDay            int64\n",
      "day                 int64\n",
      "interval_low        int64\n",
      "interval_high       int64\n",
      "interval_avg        float64\n",
      "morning             int64\n",
      "dayTime             int64\n",
      "evening             int64\n",
      "night               int64\n",
      "is_order_weekend    int64\n",
      "is_weekend          int64\n",
      "dtypes: float64(4), int32(1), int64(18), object(1)\n",
      "memory usage: 1.6+ GB\n"
     ]
    }
   ],
   "source": [
    "data.info()"
   ]
  },
  {
   "cell_type": "markdown",
   "metadata": {},
   "source": [
    "### Дисперсия"
   ]
  },
  {
   "cell_type": "markdown",
   "metadata": {},
   "source": [
    "Импортируем еще пару библиотек для бивариантного анализа, а также сразу найдем дисперсию данных для выдвижения гипотезы о том, как влияют данные о *типе доставки*, *длительности доставки*, *предоплате*, *времени суток* и *количестве редактирований заказа* на отмену заказа"
   ]
  },
  {
   "cell_type": "code",
   "execution_count": 17,
   "metadata": {},
   "outputs": [
    {
     "data": {
      "text/html": [
       "<div>\n",
       "<style scoped>\n",
       "    .dataframe tbody tr th:only-of-type {\n",
       "        vertical-align: middle;\n",
       "    }\n",
       "\n",
       "    .dataframe tbody tr th {\n",
       "        vertical-align: top;\n",
       "    }\n",
       "\n",
       "    .dataframe thead th {\n",
       "        text-align: right;\n",
       "    }\n",
       "</style>\n",
       "<table border=\"1\" class=\"dataframe\">\n",
       "  <thead>\n",
       "    <tr style=\"text-align: right;\">\n",
       "      <th></th>\n",
       "      <th>DeliveryType</th>\n",
       "      <th>delivery_days</th>\n",
       "      <th>prepay</th>\n",
       "      <th>morning</th>\n",
       "      <th>dayTime</th>\n",
       "      <th>evening</th>\n",
       "      <th>night</th>\n",
       "      <th>count_edit</th>\n",
       "      <th>is_order_weekend</th>\n",
       "      <th>is_weekend</th>\n",
       "    </tr>\n",
       "    <tr>\n",
       "      <th>CancelFlag</th>\n",
       "      <th></th>\n",
       "      <th></th>\n",
       "      <th></th>\n",
       "      <th></th>\n",
       "      <th></th>\n",
       "      <th></th>\n",
       "      <th></th>\n",
       "      <th></th>\n",
       "      <th></th>\n",
       "      <th></th>\n",
       "    </tr>\n",
       "  </thead>\n",
       "  <tbody>\n",
       "    <tr>\n",
       "      <th>0</th>\n",
       "      <td>0.022959</td>\n",
       "      <td>0.233153</td>\n",
       "      <td>0.162488</td>\n",
       "      <td>0.234013</td>\n",
       "      <td>0.230098</td>\n",
       "      <td>0.183114</td>\n",
       "      <td>0.003225</td>\n",
       "      <td>17.152443</td>\n",
       "      <td>0.195696</td>\n",
       "      <td>0.210585</td>\n",
       "    </tr>\n",
       "    <tr>\n",
       "      <th>1</th>\n",
       "      <td>0.016801</td>\n",
       "      <td>0.452698</td>\n",
       "      <td>0.063171</td>\n",
       "      <td>0.232487</td>\n",
       "      <td>0.229998</td>\n",
       "      <td>0.176597</td>\n",
       "      <td>0.006069</td>\n",
       "      <td>24.137897</td>\n",
       "      <td>0.192930</td>\n",
       "      <td>0.208717</td>\n",
       "    </tr>\n",
       "  </tbody>\n",
       "</table>\n",
       "</div>"
      ],
      "text/plain": [
       "            DeliveryType  delivery_days    prepay   morning   dayTime  \\\n",
       "CancelFlag                                                              \n",
       "0               0.022959       0.233153  0.162488  0.234013  0.230098   \n",
       "1               0.016801       0.452698  0.063171  0.232487  0.229998   \n",
       "\n",
       "             evening     night  count_edit  is_order_weekend  is_weekend  \n",
       "CancelFlag                                                                \n",
       "0           0.183114  0.003225   17.152443          0.195696    0.210585  \n",
       "1           0.176597  0.006069   24.137897          0.192930    0.208717  "
      ]
     },
     "execution_count": 17,
     "metadata": {},
     "output_type": "execute_result"
    }
   ],
   "source": [
    "import seaborn as sns\n",
    "import matplotlib.pyplot as plt\n",
    "data[['CancelFlag', 'DeliveryType', 'delivery_days', \n",
    "           'prepay', 'morning', 'dayTime', 'evening', 'night', 'count_edit', 'is_order_weekend', 'is_weekend']].groupby('CancelFlag').var()"
   ]
  },
  {
   "cell_type": "markdown",
   "metadata": {},
   "source": [
    "По дисперсии мы видим, что все признаки, кроме времени суток и выходных дней, довольно значительно влияют на отмену заказа"
   ]
  },
  {
   "cell_type": "markdown",
   "metadata": {},
   "source": [
    "### Бивариантный анализ"
   ]
  },
  {
   "cell_type": "markdown",
   "metadata": {},
   "source": [
    "Корреляция – связь между двумя метрическими переменными. При построении корреляции, мы ищем признаки, зависимые друг от друга или каким-либо образом влияющие на значения друг друга. Коэффициент корреляции признака с самим собой всегда равен единице, это значение не должно учитываться при исследовании зависимостей. Удобное представление коэффициентов корреляции - тепловая карта, представленная ниже. Но нам интересна в данном случае лишь зависимость между CancelFlag и остальными признаками"
   ]
  },
  {
   "cell_type": "code",
   "execution_count": 18,
   "metadata": {},
   "outputs": [
    {
     "data": {
      "text/plain": [
       "<matplotlib.axes._subplots.AxesSubplot at 0x1231a0b55f8>"
      ]
     },
     "execution_count": 18,
     "metadata": {},
     "output_type": "execute_result"
    },
    {
     "data": {
      "image/png": "[encoded data removed]",
      "text/plain": [
       "<Figure size 1440x720 with 2 Axes>"
      ]
     },
     "metadata": {
      "needs_background": "light"
     },
     "output_type": "display_data"
    }
   ],
   "source": [
    "plt.figure(figsize=(20,10))\n",
    "sns.heatmap(data.corr())"
   ]
  },
  {
   "cell_type": "markdown",
   "metadata": {},
   "source": [
    "### Круговые диаграммы"
   ]
  },
  {
   "cell_type": "markdown",
   "metadata": {},
   "source": [
    "Здесь мы построим 2 круговые диаграммы - зависимость отказа от дней недели и зависимость отмены от предоплаты"
   ]
  },
  {
   "cell_type": "markdown",
   "metadata": {},
   "source": [
    "Разобьем данные по дням недели:"
   ]
  },
  {
   "cell_type": "code",
   "execution_count": 20,
   "metadata": {},
   "outputs": [],
   "source": [
    "monday = data.orderDay.apply(lambda x: 1 if x==0 else 0)\n",
    "tuesday = data.orderDay.apply(lambda x: 1 if x==1 else 0)\n",
    "wednesday = data.orderDay.apply(lambda x: 1 if x==2 else 0)\n",
    "thursday = data.orderDay.apply(lambda x: 1 if x==3 else 0)\n",
    "friday = data.orderDay.apply(lambda x: 1 if x==4 else 0)\n",
    "saturday = data.orderDay.apply(lambda x: 1 if x==5 else 0)\n",
    "sunday = data.orderDay.apply(lambda x: 1 if x==6 else 0)\n",
    "\n",
    "data['monday'] = monday\n",
    "data['tuesday'] = tuesday\n",
    "data['wednesday'] = wednesday\n",
    "data['thursday'] = thursday\n",
    "data['friday'] = friday\n",
    "data['saturday'] = saturday\n",
    "data['sunday'] = sunday"
   ]
  },
  {
   "cell_type": "markdown",
   "metadata": {},
   "source": [
    ">Обязательно нужно найти отношение отмененных заказов ко всем заказам по дням недели"
   ]
  },
  {
   "cell_type": "code",
   "execution_count": 21,
   "metadata": {},
   "outputs": [],
   "source": [
    "cancel_data = data[['CancelFlag', 'monday', 'tuesday', 'wednesday', 'thursday',\n",
    "           'friday', 'saturday', 'sunday']].groupby('CancelFlag').sum()\n",
    "size1 = cancel_data.values[1]\n",
    "size2 = cancel_data.values[0]\n",
    "proportion=size1/(size1+size2)"
   ]
  },
  {
   "cell_type": "markdown",
   "metadata": {},
   "source": [
    "После этого строим нашу первую диаграмму:"
   ]
  },
  {
   "cell_type": "code",
   "execution_count": 25,
   "metadata": {},
   "outputs": [
    {
     "data": {
      "image/png": "[encoded data removed]",
      "text/plain": [
       "<Figure size 432x288 with 1 Axes>"
      ]
     },
     "metadata": {},
     "output_type": "display_data"
    }
   ],
   "source": [
    "labels = 'Monday', 'Tuesday', 'Wednesday', 'Thursday', 'Friday', 'Saturday', 'Sunday'\n",
    "explode = (0.1, 0.1, 0.1, 0.1, 0.1, 0.1, 0.1) \n",
    "fig1, ax1 = plt.subplots()\n",
    "\n",
    "ax1.pie(proportion*100, explode=explode, labels=labels, autopct='%1.2f%%',\n",
    "        shadow=False, startangle=90)\n",
    "ax1.axis('equal')\n",
    "\n",
    "plt.show()"
   ]
  },
  {
   "cell_type": "markdown",
   "metadata": {},
   "source": [
    "По диаграмме видно, что понедельник и воскресенье в большей мере влияют на отмену заказа, нежели остальные дни недели\n",
    "***\n",
    "Теперь же построим диаграмму зависимости предоплаты и отмены заказа. \n",
    "\n",
    "\n",
    "Для начала посчитаем кол-во всех отмененных заказов с предоплатой:"
   ]
  },
  {
   "cell_type": "code",
   "execution_count": 26,
   "metadata": {},
   "outputs": [
    {
     "name": "stdout",
     "output_type": "stream",
     "text": [
      "CancelFlag\n",
      "0    8519074\n",
      "1     504110\n",
      "Name: prepay, dtype: int64\n"
     ]
    }
   ],
   "source": [
    "cancelPrepay = data[['CancelFlag', 'prepay']].groupby('CancelFlag').count()['prepay']\n",
    "print(cancelPrepay)"
   ]
  },
  {
   "cell_type": "markdown",
   "metadata": {},
   "source": [
    "Строим диаграмму:"
   ]
  },
  {
   "cell_type": "code",
   "execution_count": 28,
   "metadata": {},
   "outputs": [
    {
     "data": {
      "image/png": "[encoded data removed]",
      "text/plain": [
       "<Figure size 432x288 with 1 Axes>"
      ]
     },
     "metadata": {},
     "output_type": "display_data"
    }
   ],
   "source": [
    "labels = 'Dont cancel w/ prepay', 'Cancel w/ prepay'\n",
    "explode = (0, 0.3)  \n",
    "\n",
    "fig1, ax1 = plt.subplots()\n",
    "ax1.pie(cancelPrepay, explode=explode, labels=labels, autopct='%1.2f%%',\n",
    "        shadow=True, startangle=90)\n",
    "ax1.axis('equal')  \n",
    "\n",
    "plt.show()"
   ]
  },
  {
   "cell_type": "markdown",
   "metadata": {},
   "source": [
    "Очевидно, что с предоплатой кол-во отказов минимально"
   ]
  },
  {
   "cell_type": "markdown",
   "metadata": {},
   "source": [
    "### Столбчатая диаграмма"
   ]
  },
  {
   "cell_type": "markdown",
   "metadata": {},
   "source": [
    "Здесь построим столбчатую диаграмму зависимости отказов от кол-ва дней доставки, т.е. от времени, сколько пришлось ждать человеку"
   ]
  },
  {
   "cell_type": "markdown",
   "metadata": {},
   "source": [
    "Перед построением диаграммы импортируем недостающую библиотеку и посчитаем отношение отмененных заказов по времени ожидания ко всем заказам"
   ]
  },
  {
   "cell_type": "code",
   "execution_count": 32,
   "metadata": {},
   "outputs": [],
   "source": [
    "cancelled = data[['CancelFlag', 'delivery_days']].groupby('delivery_days').sum()['CancelFlag']\n",
    "all_orders = data[['CancelFlag', 'delivery_days']].groupby('delivery_days').count()['CancelFlag']\n",
    "cancelled_proportion = cancelled/all_orders"
   ]
  },
  {
   "cell_type": "code",
   "execution_count": 34,
   "metadata": {},
   "outputs": [
    {
     "data": {
      "image/png": "[encoded data removed]",
      "text/plain": [
       "<Figure size 432x288 with 1 Axes>"
      ]
     },
     "metadata": {
      "needs_background": "light"
     },
     "output_type": "display_data"
    }
   ],
   "source": [
    "import numpy as np\n",
    "cancelled_proportion_values = cancelled_proportion[cancelled_proportion.index >= 0]\n",
    "\n",
    "s = cancelled_proportion_values\n",
    "x = range(len(s))\n",
    "ax = plt.gca()\n",
    "ax.bar(x, s, align='edge')\n",
    "ax.set_xticks(x)\n",
    "ax.set_xticklabels((cancelled_proportion.index+10))\n",
    "plt.show()"
   ]
  },
  {
   "cell_type": "markdown",
   "metadata": {},
   "source": [
    "Прекрасно видно, что чем больше дней ожидания, тем выше влияние на отказ\n",
    "___\n",
    "Перед переходом к дальнейшему анализу стоит сохранить наши измененные данные:"
   ]
  },
  {
   "cell_type": "code",
   "execution_count": 35,
   "metadata": {},
   "outputs": [],
   "source": [
    "data.to_csv('dataRefactor.csv', index=False)\n",
    "data = pd.read_csv('dataRefactor.csv', encoding='cp1251', low_memory=False)"
   ]
  },
  {
   "cell_type": "markdown",
   "metadata": {},
   "source": [
    "Заполним пустые строки медианой значений, удалим пустые строчки:"
   ]
  },
  {
   "cell_type": "code",
   "execution_count": 36,
   "metadata": {},
   "outputs": [],
   "source": [
    "data.dropna()\n",
    "data = data.fillna(data.median(axis=0), axis=0)"
   ]
  },
  {
   "cell_type": "markdown",
   "metadata": {},
   "source": [
    "Подготовим тестовую и тренировочную выборки:"
   ]
  },
  {
   "cell_type": "code",
   "execution_count": 39,
   "metadata": {},
   "outputs": [],
   "source": [
    "from sklearn.model_selection import train_test_split\n",
    "X = data[['OrderCnt', 'DeliveryType', 'prepay', 'count_edit',\n",
    "       'int0', 'int1', 'delivery_days', 'orderDay']]\n",
    "y = data.values[::, 5]\n",
    "y = y.astype(int)\n",
    "\n",
    "X_train, X_test, Y_train, Y_test = train_test_split(X, y, test_size=0.7)"
   ]
  },
  {
   "cell_type": "markdown",
   "metadata": {},
   "source": [
    "---\n",
    "### Decision Tree Classifier"
   ]
  },
  {
   "cell_type": "markdown",
   "metadata": {},
   "source": [
    "***Это метод поддержки принятия решений, основанный на использовании древовидного графа: модели принятия решений, которая учитывает их потенциальные последствия (с расчётом вероятности наступления того или иного события), эффективность, ресурсозатратность. Для бизнес-процессов это дерево складывается из минимального числа вопросов, предполагающих однозначный ответ — «да» или «нет». Последовательно дав ответы на все эти вопросы, мы приходим к правильному выбору. Методологические преимущества дерева принятия решений – в том, что оно структурирует и систематизирует проблему, а итоговое решение принимается на основе логических выводов. Решающее дерево- покрывающий набор конъюнкций. Требование максимизации информативности конъюнкций означает, что каждая из них должна выделять как можно больше обучающих объектов, допуская при этом как можно меньше ошибок. Для повышения обобщающей способности решающего дерева число листьев должно быть как можно меньше, и они должны покрывать подвыборки примерно одинаковой мощности.***\n"
   ]
  },
  {
   "cell_type": "markdown",
   "metadata": {},
   "source": [
    "***Матрица ошибок (confusion matrix) — это способ разбить объекты на четыре категории в зависимости от комбинации истинного ответа и ответа алгоритма. Основные термины: TP — истино-положительное решение; TN — истино-отрицательное решение; FP — ложно-положительное решение (Ошибка первого рода); FN — ложно-отрицательное решение (Ошибка второго рода).\n",
    "$$\\begin{equation*}\n",
    "\\frac{TP+TN}{{P + N}} =\\frac{TP+TN}{{TP + TN +FP +FN}}\n",
    "\\end{equation*}$$Данная мeтрика имеет существенный недостаток — её значение необходимо оценивать в контексте баланса классов. Это означает, что доля положительных ответов сама по себе не несет никакой информации о качестве работы алгоритма a(x), и вместе с ней следует анализировать соотношение классов в выборке.Гораздо более информативными критериями являются точность (precision) и полнота (recall). Точность показывает, какая доля объектов, выделенных классификатором как положительные, действительно является положительными:\n",
    "$$\\begin{equation*}\n",
    "Precision =\\frac{TP}{{TP + FP}}\n",
    "\\end{equation*}$$Полнота показывает, какая часть положительных объектов была выделена классификатором***\n",
    "$$\\begin{equation*}\n",
    "Recall =\\frac{TP}{{TP + FN}}\n",
    "\\end{equation*}$$\n",
    "---"
   ]
  },
  {
   "cell_type": "markdown",
   "metadata": {},
   "source": [
    "Импортируем нужные библиотеки для построения модели:"
   ]
  },
  {
   "cell_type": "code",
   "execution_count": 43,
   "metadata": {},
   "outputs": [],
   "source": [
    "from sklearn.tree import DecisionTreeClassifier\n",
    "from sklearn.metrics import confusion_matrix\n",
    "from sklearn.metrics import accuracy_score"
   ]
  },
  {
   "cell_type": "markdown",
   "metadata": {},
   "source": [
    "Строим дерево и матрицу ошибок:"
   ]
  },
  {
   "cell_type": "code",
   "execution_count": 45,
   "metadata": {},
   "outputs": [
    {
     "name": "stdout",
     "output_type": "stream",
     "text": [
      "[[5961791    1383]\n",
      " [ 348615    4440]]\n",
      "Confusion matrix for train model\n",
      "[[2555318     582]\n",
      " [ 149079    1976]]\n",
      "\n",
      "Gini classifier\n",
      "test data\n",
      "0.9445875062477944\n",
      "train data\n",
      "0.944712416719155\n",
      "\n",
      "Entropy classifier\n",
      "test data\n",
      "0.9446038134462826\n",
      "train data\n",
      "0.9447183274195544\n"
     ]
    }
   ],
   "source": [
    "model = DecisionTreeClassifier(max_depth=8,random_state=4, criterion='gini',min_samples_leaf=2)\n",
    "model.fit(X_train,Y_train)\n",
    "model.predict(X_test)\n",
    "model.predict(X_train)\n",
    "print(confusion_matrix(Y_test,model.predict(X_test)))\n",
    "print(\"Confusion matrix for train model\")\n",
    "print(confusion_matrix(Y_train,model.predict(X_train)))\n",
    "print('\\nGini classifier')\n",
    "print('test data')\n",
    "print(accuracy_score(Y_test,model.predict(X_test)))\n",
    "print(\"train data\")\n",
    "print(accuracy_score(Y_train,model.predict(X_train)))\n",
    "\n",
    "print('\\nEntropy classifier')\n",
    "model2 = DecisionTreeClassifier(max_depth=8,random_state=4, criterion='entropy',min_samples_leaf=2)\n",
    "model2.fit(X_train,Y_train)\n",
    "model2.predict(X_test)\n",
    "model2.predict(X_train)\n",
    "print('test data')\n",
    "print(accuracy_score(Y_test,model2.predict(X_test)))\n",
    "print(\"train data\")\n",
    "print(accuracy_score(Y_train,model2.predict(X_train)))"
   ]
  },
  {
   "cell_type": "markdown",
   "metadata": {},
   "source": [
    "Можно заметить, что с модель с энтропийной классификацией дает чуть более высокие результаты\n",
    "___\n",
    "\n",
    "Выведем оба дерева:"
   ]
  },
  {
   "cell_type": "code",
   "execution_count": 46,
   "metadata": {},
   "outputs": [
    {
     "data": {
      "text/plain": [
       "[Text(185.30878378378378, 205.35999999999999, 'X[2] <= 0.5\\nentropy = 0.311\\nsamples = 2706955\\nvalue = [2555900, 151055]'),\n",
       " Text(110.06047297297296, 181.2, 'X[6] <= 1.5\\nentropy = 0.346\\nsamples = 2175863\\nvalue = [2034993, 140870]'),\n",
       " Text(58.06216216216216, 157.04, 'X[3] <= 5.5\\nentropy = 0.313\\nsamples = 1849628\\nvalue = [1745498, 104130]'),\n",
       " Text(31.04189189189189, 132.88, 'X[5] <= 9.0\\nentropy = 0.308\\nsamples = 1774013\\nvalue = [1676098, 97915]'),\n",
       " Text(16.086486486486486, 108.72, 'X[3] <= 2.5\\nentropy = 0.355\\nsamples = 206734\\nvalue = [192868, 13866]'),\n",
       " Text(8.043243243243243, 84.56, 'X[7] <= 5.5\\nentropy = 0.35\\nsamples = 199091\\nvalue = [185996, 13095]'),\n",
       " Text(4.021621621621621, 60.400000000000006, 'X[0] <= 1.5\\nentropy = 0.345\\nsamples = 171533\\nvalue = [160456, 11077]'),\n",
       " Text(2.0108108108108107, 36.24000000000001, 'X[4] <= 3.0\\nentropy = 0.352\\nsamples = 118267\\nvalue = [110412, 7855]'),\n",
       " Text(1.0054054054054054, 12.079999999999984, 'entropy = 0.518\\nsamples = 448\\nvalue = [396, 52]'),\n",
       " Text(3.016216216216216, 12.079999999999984, 'entropy = 0.352\\nsamples = 117819\\nvalue = [110016, 7803]'),\n",
       " Text(6.032432432432432, 36.24000000000001, 'X[5] <= 1.0\\nentropy = 0.329\\nsamples = 53266\\nvalue = [50044, 3222]'),\n",
       " Text(5.027027027027026, 12.079999999999984, 'entropy = 0.31\\nsamples = 22071\\nvalue = [20845, 1226]'),\n",
       " Text(7.037837837837838, 12.079999999999984, 'entropy = 0.343\\nsamples = 31195\\nvalue = [29199, 1996]'),\n",
       " Text(12.064864864864864, 60.400000000000006, 'X[4] <= 3.0\\nentropy = 0.378\\nsamples = 27558\\nvalue = [25540, 2018]'),\n",
       " Text(10.054054054054053, 36.24000000000001, 'X[0] <= 2.5\\nentropy = 0.794\\nsamples = 92\\nvalue = [70, 22]'),\n",
       " Text(9.048648648648648, 12.079999999999984, 'entropy = 0.855\\nsamples = 75\\nvalue = [54, 21]'),\n",
       " Text(11.05945945945946, 12.079999999999984, 'entropy = 0.323\\nsamples = 17\\nvalue = [16, 1]'),\n",
       " Text(14.075675675675676, 36.24000000000001, 'X[3] <= 0.5\\nentropy = 0.376\\nsamples = 27466\\nvalue = [25470, 1996]'),\n",
       " Text(13.070270270270269, 12.079999999999984, 'entropy = 0.369\\nsamples = 25387\\nvalue = [23589, 1798]'),\n",
       " Text(15.08108108108108, 12.079999999999984, 'entropy = 0.454\\nsamples = 2079\\nvalue = [1881, 198]'),\n",
       " Text(24.12972972972973, 84.56, 'X[4] <= 14.0\\nentropy = 0.472\\nsamples = 7643\\nvalue = [6872, 771]'),\n",
       " Text(20.108108108108105, 60.400000000000006, 'X[3] <= 4.5\\nentropy = 0.381\\nsamples = 3921\\nvalue = [3630, 291]'),\n",
       " Text(18.097297297297295, 36.24000000000001, 'X[7] <= 1.5\\nentropy = 0.42\\nsamples = 3126\\nvalue = [2860, 266]'),\n",
       " Text(17.09189189189189, 12.079999999999984, 'entropy = 0.579\\nsamples = 761\\nvalue = [656, 105]'),\n",
       " Text(19.1027027027027, 12.079999999999984, 'entropy = 0.359\\nsamples = 2365\\nvalue = [2204, 161]'),\n",
       " Text(22.11891891891892, 36.24000000000001, 'X[7] <= 3.5\\nentropy = 0.202\\nsamples = 795\\nvalue = [770, 25]'),\n",
       " Text(21.113513513513514, 12.079999999999984, 'entropy = 0.092\\nsamples = 515\\nvalue = [509, 6]'),\n",
       " Text(23.124324324324323, 12.079999999999984, 'entropy = 0.358\\nsamples = 280\\nvalue = [261, 19]'),\n",
       " Text(28.15135135135135, 60.400000000000006, 'X[7] <= 1.5\\nentropy = 0.555\\nsamples = 3722\\nvalue = [3242, 480]'),\n",
       " Text(26.140540540540538, 36.24000000000001, 'X[0] <= 5.5\\nentropy = 0.724\\nsamples = 726\\nvalue = [580, 146]'),\n",
       " Text(25.135135135135133, 12.079999999999984, 'entropy = 0.737\\nsamples = 703\\nvalue = [557, 146]'),\n",
       " Text(27.145945945945943, 12.079999999999984, 'entropy = 0.0\\nsamples = 23\\nvalue = [23, 0]'),\n",
       " Text(30.16216216216216, 36.24000000000001, 'X[7] <= 5.5\\nentropy = 0.504\\nsamples = 2996\\nvalue = [2662, 334]'),\n",
       " Text(29.156756756756756, 12.079999999999984, 'entropy = 0.528\\nsamples = 2707\\nvalue = [2383, 324]'),\n",
       " Text(31.167567567567566, 12.079999999999984, 'entropy = 0.217\\nsamples = 289\\nvalue = [279, 10]'),\n",
       " Text(45.997297297297294, 108.72, 'X[4] <= 7.0\\nentropy = 0.302\\nsamples = 1567279\\nvalue = [1483230, 84049]'),\n",
       " Text(39.71351351351351, 84.56, 'X[7] <= 5.5\\nentropy = 0.399\\nsamples = 14646\\nvalue = [13489, 1157]'),\n",
       " Text(36.19459459459459, 60.400000000000006, 'X[7] <= 2.5\\nentropy = 0.378\\nsamples = 12967\\nvalue = [12018, 949]'),\n",
       " Text(34.18378378378378, 36.24000000000001, 'X[3] <= 0.5\\nentropy = 0.434\\nsamples = 5635\\nvalue = [5132, 503]'),\n",
       " Text(33.178378378378376, 12.079999999999984, 'entropy = 0.459\\nsamples = 4726\\nvalue = [4268, 458]'),\n",
       " Text(35.189189189189186, 12.079999999999984, 'entropy = 0.284\\nsamples = 909\\nvalue = [864, 45]'),\n",
       " Text(38.2054054054054, 36.24000000000001, 'X[3] <= 4.5\\nentropy = 0.331\\nsamples = 7332\\nvalue = [6886, 446]'),\n",
       " Text(37.199999999999996, 12.079999999999984, 'entropy = 0.332\\nsamples = 7286\\nvalue = [6840, 446]'),\n",
       " Text(39.210810810810806, 12.079999999999984, 'entropy = 0.0\\nsamples = 46\\nvalue = [46, 0]'),\n",
       " Text(43.23243243243243, 60.400000000000006, 'X[3] <= 2.5\\nentropy = 0.54\\nsamples = 1679\\nvalue = [1471, 208]'),\n",
       " Text(42.22702702702703, 36.24000000000001, 'X[3] <= 0.5\\nentropy = 0.555\\nsamples = 1612\\nvalue = [1404, 208]'),\n",
       " Text(41.22162162162162, 12.079999999999984, 'entropy = 0.57\\nsamples = 1381\\nvalue = [1195, 186]'),\n",
       " Text(43.23243243243243, 12.079999999999984, 'entropy = 0.454\\nsamples = 231\\nvalue = [209, 22]'),\n",
       " Text(44.23783783783784, 36.24000000000001, 'entropy = 0.0\\nsamples = 67\\nvalue = [67, 0]'),\n",
       " Text(52.281081081081076, 84.56, 'X[4] <= 18.5\\nentropy = 0.301\\nsamples = 1552633\\nvalue = [1469741, 82892]'),\n",
       " Text(48.25945945945946, 60.400000000000006, 'X[3] <= 2.5\\nentropy = 0.304\\nsamples = 1299703\\nvalue = [1229307, 70396]'),\n",
       " Text(46.24864864864865, 36.24000000000001, 'X[7] <= 3.5\\nentropy = 0.306\\nsamples = 1245493\\nvalue = [1177500, 67993]'),\n",
       " Text(45.24324324324324, 12.079999999999984, 'entropy = 0.313\\nsamples = 707780\\nvalue = [667882, 39898]'),\n",
       " Text(47.25405405405405, 12.079999999999984, 'entropy = 0.296\\nsamples = 537713\\nvalue = [509618, 28095]'),\n",
       " Text(50.27027027027027, 36.24000000000001, 'X[6] <= 0.5\\nentropy = 0.262\\nsamples = 54210\\nvalue = [51807, 2403]'),\n",
       " Text(49.26486486486486, 12.079999999999984, 'entropy = 0.0\\nsamples = 12\\nvalue = [0, 12]'),\n",
       " Text(51.27567567567567, 12.079999999999984, 'entropy = 0.261\\nsamples = 54198\\nvalue = [51807, 2391]'),\n",
       " Text(56.3027027027027, 60.400000000000006, 'X[3] <= 4.5\\nentropy = 0.284\\nsamples = 252930\\nvalue = [240434, 12496]'),\n",
       " Text(54.291891891891886, 36.24000000000001, 'X[7] <= 0.5\\nentropy = 0.282\\nsamples = 251047\\nvalue = [238744, 12303]'),\n",
       " Text(53.28648648648648, 12.079999999999984, 'entropy = 0.312\\nsamples = 33715\\nvalue = [31823, 1892]'),\n",
       " Text(55.29729729729729, 12.079999999999984, 'entropy = 0.277\\nsamples = 217332\\nvalue = [206921, 10411]'),\n",
       " Text(58.31351351351351, 36.24000000000001, 'X[6] <= 0.5\\nentropy = 0.477\\nsamples = 1883\\nvalue = [1690, 193]'),\n",
       " Text(57.30810810810811, 12.079999999999984, 'entropy = 0.0\\nsamples = 261\\nvalue = [261, 0]'),\n",
       " Text(59.31891891891892, 12.079999999999984, 'entropy = 0.526\\nsamples = 1622\\nvalue = [1429, 193]'),\n",
       " Text(85.08243243243243, 132.88, 'X[4] <= 13.5\\nentropy = 0.41\\nsamples = 75615\\nvalue = [69400, 6215]'),\n",
       " Text(71.88648648648648, 108.72, 'X[4] <= 7.0\\nentropy = 0.34\\nsamples = 45328\\nvalue = [42462, 2866]'),\n",
       " Text(65.85405405405405, 84.56, 'X[7] <= 2.5\\nentropy = 0.514\\nsamples = 4109\\nvalue = [3637, 472]'),\n",
       " Text(63.34054054054054, 60.400000000000006, 'X[3] <= 52.5\\nentropy = 0.387\\nsamples = 1767\\nvalue = [1633, 134]'),\n",
       " Text(62.33513513513513, 36.24000000000001, 'X[3] <= 49.5\\nentropy = 0.408\\nsamples = 1639\\nvalue = [1505, 134]'),\n",
       " Text(61.32972972972973, 12.079999999999984, 'entropy = 0.398\\nsamples = 1634\\nvalue = [1505, 129]'),\n",
       " Text(63.34054054054054, 12.079999999999984, 'entropy = 0.0\\nsamples = 5\\nvalue = [0, 5]'),\n",
       " Text(64.34594594594594, 36.24000000000001, 'entropy = 0.0\\nsamples = 128\\nvalue = [128, 0]'),\n",
       " Text(68.36756756756756, 60.400000000000006, 'X[3] <= 25.5\\nentropy = 0.595\\nsamples = 2342\\nvalue = [2004, 338]'),\n",
       " Text(66.35675675675675, 36.24000000000001, 'X[7] <= 4.5\\nentropy = 0.539\\nsamples = 1903\\nvalue = [1668, 235]'),\n",
       " Text(65.35135135135135, 12.079999999999984, 'entropy = 0.412\\nsamples = 1098\\nvalue = [1007, 91]'),\n",
       " Text(67.36216216216216, 12.079999999999984, 'entropy = 0.678\\nsamples = 805\\nvalue = [661, 144]'),\n",
       " Text(70.37837837837837, 36.24000000000001, 'X[3] <= 31.5\\nentropy = 0.786\\nsamples = 439\\nvalue = [336, 103]'),\n",
       " Text(69.37297297297297, 12.079999999999984, 'entropy = 0.98\\nsamples = 182\\nvalue = [106, 76]'),\n",
       " Text(71.38378378378378, 12.079999999999984, 'entropy = 0.485\\nsamples = 257\\nvalue = [230, 27]'),\n",
       " Text(77.91891891891892, 84.56, 'X[7] <= 0.5\\nentropy = 0.32\\nsamples = 41219\\nvalue = [38825, 2394]'),\n",
       " Text(75.4054054054054, 60.400000000000006, 'X[3] <= 52.0\\nentropy = 0.532\\nsamples = 3405\\nvalue = [2993, 412]'),\n",
       " Text(74.39999999999999, 36.24000000000001, 'X[3] <= 26.5\\nentropy = 0.52\\nsamples = 3389\\nvalue = [2993, 396]'),\n",
       " Text(73.3945945945946, 12.079999999999984, 'entropy = 0.55\\nsamples = 3113\\nvalue = [2717, 396]'),\n",
       " Text(75.4054054054054, 12.079999999999984, 'entropy = 0.0\\nsamples = 276\\nvalue = [276, 0]'),\n",
       " Text(76.4108108108108, 36.24000000000001, 'entropy = 0.0\\nsamples = 16\\nvalue = [0, 16]'),\n",
       " Text(80.43243243243242, 60.400000000000006, 'X[7] <= 4.5\\nentropy = 0.297\\nsamples = 37814\\nvalue = [35832, 1982]'),\n",
       " Text(78.42162162162161, 36.24000000000001, 'X[5] <= 15.0\\nentropy = 0.261\\nsamples = 27400\\nvalue = [26192, 1208]'),\n",
       " Text(77.41621621621621, 12.079999999999984, 'entropy = 0.276\\nsamples = 23982\\nvalue = [22839, 1143]'),\n",
       " Text(79.42702702702702, 12.079999999999984, 'entropy = 0.136\\nsamples = 3418\\nvalue = [3353, 65]'),\n",
       " Text(82.44324324324324, 36.24000000000001, 'X[3] <= 30.5\\nentropy = 0.382\\nsamples = 10414\\nvalue = [9640, 774]'),\n",
       " Text(81.43783783783783, 12.079999999999984, 'entropy = 0.407\\nsamples = 9501\\nvalue = [8729, 772]'),\n",
       " Text(83.44864864864864, 12.079999999999984, 'entropy = 0.023\\nsamples = 913\\nvalue = [911, 2]'),\n",
       " Text(98.27837837837838, 108.72, 'X[3] <= 25.5\\nentropy = 0.502\\nsamples = 30287\\nvalue = [26938, 3349]'),\n",
       " Text(91.99459459459459, 84.56, 'X[3] <= 22.5\\nentropy = 0.469\\nsamples = 25781\\nvalue = [23202, 2579]'),\n",
       " Text(88.47567567567567, 60.400000000000006, 'X[3] <= 19.5\\nentropy = 0.476\\nsamples = 24987\\nvalue = [22431, 2556]'),\n",
       " Text(86.46486486486486, 36.24000000000001, 'X[4] <= 17.0\\nentropy = 0.462\\nsamples = 23889\\nvalue = [21549, 2340]'),\n",
       " Text(85.45945945945945, 12.079999999999984, 'entropy = 0.405\\nsamples = 8727\\nvalue = [8023, 704]'),\n",
       " Text(87.47027027027026, 12.079999999999984, 'entropy = 0.494\\nsamples = 15162\\nvalue = [13526, 1636]'),\n",
       " Text(90.48648648648648, 36.24000000000001, 'X[4] <= 15.0\\nentropy = 0.715\\nsamples = 1098\\nvalue = [882, 216]'),\n",
       " Text(89.48108108108107, 12.079999999999984, 'entropy = 0.973\\nsamples = 183\\nvalue = [109, 74]'),\n",
       " Text(91.49189189189188, 12.079999999999984, 'entropy = 0.623\\nsamples = 915\\nvalue = [773, 142]'),\n",
       " Text(95.5135135135135, 60.400000000000006, 'X[4] <= 18.5\\nentropy = 0.189\\nsamples = 794\\nvalue = [771, 23]'),\n",
       " Text(94.5081081081081, 36.24000000000001, 'X[7] <= 3.5\\nentropy = 0.324\\nsamples = 389\\nvalue = [366, 23]'),\n",
       " Text(93.50270270270269, 12.079999999999984, 'entropy = 0.47\\nsamples = 229\\nvalue = [206, 23]'),\n",
       " Text(95.5135135135135, 12.079999999999984, 'entropy = 0.0\\nsamples = 160\\nvalue = [160, 0]'),\n",
       " Text(96.51891891891891, 36.24000000000001, 'entropy = 0.0\\nsamples = 405\\nvalue = [405, 0]'),\n",
       " Text(104.56216216216215, 84.56, 'X[3] <= 49.5\\nentropy = 0.66\\nsamples = 4506\\nvalue = [3736, 770]'),\n",
       " Text(100.54054054054053, 60.400000000000006, 'X[5] <= 1.0\\nentropy = 0.73\\nsamples = 3358\\nvalue = [2672, 686]'),\n",
       " Text(98.52972972972972, 36.24000000000001, 'X[7] <= 0.5\\nentropy = 0.938\\nsamples = 564\\nvalue = [364, 200]'),\n",
       " Text(97.52432432432433, 12.079999999999984, 'entropy = 0.319\\nsamples = 69\\nvalue = [65, 4]'),\n",
       " Text(99.53513513513514, 12.079999999999984, 'entropy = 0.969\\nsamples = 495\\nvalue = [299, 196]'),\n",
       " Text(102.55135135135134, 36.24000000000001, 'X[3] <= 36.5\\nentropy = 0.667\\nsamples = 2794\\nvalue = [2308, 486]'),\n",
       " Text(101.54594594594595, 12.079999999999984, 'entropy = 0.741\\nsamples = 1741\\nvalue = [1376, 365]'),\n",
       " Text(103.55675675675676, 12.079999999999984, 'entropy = 0.515\\nsamples = 1053\\nvalue = [932, 121]'),\n",
       " Text(108.58378378378377, 60.400000000000006, 'X[5] <= 20.5\\nentropy = 0.378\\nsamples = 1148\\nvalue = [1064, 84]'),\n",
       " Text(106.57297297297296, 36.24000000000001, 'X[3] <= 147.0\\nentropy = 0.465\\nsamples = 840\\nvalue = [757, 83]'),\n",
       " Text(105.56756756756756, 12.079999999999984, 'entropy = 0.437\\nsamples = 832\\nvalue = [757, 75]'),\n",
       " Text(107.57837837837837, 12.079999999999984, 'entropy = 0.0\\nsamples = 8\\nvalue = [0, 8]'),\n",
       " Text(110.59459459459458, 36.24000000000001, 'X[3] <= 66.0\\nentropy = 0.032\\nsamples = 308\\nvalue = [307, 1]'),\n",
       " Text(109.58918918918918, 12.079999999999984, 'entropy = 0.085\\nsamples = 94\\nvalue = [93, 1]'),\n",
       " Text(111.6, 12.079999999999984, 'entropy = 0.0\\nsamples = 214\\nvalue = [214, 0]'),\n",
       " Text(162.05878378378378, 157.04, 'X[3] <= 4.5\\nentropy = 0.508\\nsamples = 326235\\nvalue = [289495, 36740]'),\n",
       " Text(138.99729729729728, 132.88, 'X[6] <= 2.5\\nentropy = 0.486\\nsamples = 315559\\nvalue = [282260, 33299]'),\n",
       " Text(128.69189189189188, 108.72, 'X[4] <= 21.0\\nentropy = 0.473\\nsamples = 307207\\nvalue = [276065, 31142]'),\n",
       " Text(120.64864864864865, 84.56, 'X[5] <= 12.5\\nentropy = 0.455\\nsamples = 290968\\nvalue = [263163, 27805]'),\n",
       " Text(116.62702702702703, 60.400000000000006, 'X[7] <= 1.5\\nentropy = 0.413\\nsamples = 128462\\nvalue = [117793, 10669]'),\n",
       " Text(114.61621621621622, 36.24000000000001, 'X[3] <= 3.5\\nentropy = 0.483\\nsamples = 27721\\nvalue = [24823, 2898]'),\n",
       " Text(113.6108108108108, 12.079999999999984, 'entropy = 0.478\\nsamples = 27482\\nvalue = [24651, 2831]'),\n",
       " Text(115.62162162162161, 12.079999999999984, 'entropy = 0.856\\nsamples = 239\\nvalue = [172, 67]'),\n",
       " Text(118.63783783783784, 36.24000000000001, 'X[3] <= 1.5\\nentropy = 0.392\\nsamples = 100741\\nvalue = [92970, 7771]'),\n",
       " Text(117.63243243243242, 12.079999999999984, 'entropy = 0.383\\nsamples = 95979\\nvalue = [88803, 7176]'),\n",
       " Text(119.64324324324323, 12.079999999999984, 'entropy = 0.543\\nsamples = 4762\\nvalue = [4167, 595]'),\n",
       " Text(124.67027027027027, 60.400000000000006, 'X[4] <= 9.5\\nentropy = 0.486\\nsamples = 162506\\nvalue = [145370, 17136]'),\n",
       " Text(122.65945945945946, 36.24000000000001, 'X[5] <= 13.5\\nentropy = 0.644\\nsamples = 9066\\nvalue = [7578, 1488]'),\n",
       " Text(121.65405405405404, 12.079999999999984, 'entropy = 0.689\\nsamples = 5198\\nvalue = [4240, 958]'),\n",
       " Text(123.66486486486485, 12.079999999999984, 'entropy = 0.576\\nsamples = 3868\\nvalue = [3338, 530]'),\n",
       " Text(126.68108108108108, 36.24000000000001, 'X[5] <= 21.0\\nentropy = 0.475\\nsamples = 153440\\nvalue = [137792, 15648]'),\n",
       " Text(125.67567567567566, 12.079999999999984, 'entropy = 0.456\\nsamples = 121218\\nvalue = [109594, 11624]'),\n",
       " Text(127.68648648648647, 12.079999999999984, 'entropy = 0.543\\nsamples = 32222\\nvalue = [28198, 4024]'),\n",
       " Text(136.73513513513512, 84.56, 'X[5] <= 1.0\\nentropy = 0.733\\nsamples = 16239\\nvalue = [12902, 3337]'),\n",
       " Text(132.7135135135135, 60.400000000000006, 'X[3] <= 2.5\\nentropy = 0.672\\nsamples = 11432\\nvalue = [9415, 2017]'),\n",
       " Text(130.7027027027027, 36.24000000000001, 'X[7] <= 0.5\\nentropy = 0.656\\nsamples = 11128\\nvalue = [9245, 1883]'),\n",
       " Text(129.6972972972973, 12.079999999999984, 'entropy = 0.791\\nsamples = 1478\\nvalue = [1127, 351]'),\n",
       " Text(131.7081081081081, 12.079999999999984, 'entropy = 0.631\\nsamples = 9650\\nvalue = [8118, 1532]'),\n",
       " Text(134.72432432432433, 36.24000000000001, 'X[7] <= 5.5\\nentropy = 0.99\\nsamples = 304\\nvalue = [170, 134]'),\n",
       " Text(133.71891891891892, 12.079999999999984, 'entropy = 0.966\\nsamples = 278\\nvalue = [169, 109]'),\n",
       " Text(135.7297297297297, 12.079999999999984, 'entropy = 0.235\\nsamples = 26\\nvalue = [1, 25]'),\n",
       " Text(140.75675675675674, 60.400000000000006, 'X[0] <= 1.5\\nentropy = 0.848\\nsamples = 4807\\nvalue = [3487, 1320]'),\n",
       " Text(138.74594594594595, 36.24000000000001, 'X[7] <= 3.5\\nentropy = 0.873\\nsamples = 3362\\nvalue = [2377, 985]'),\n",
       " Text(137.74054054054054, 12.079999999999984, 'entropy = 0.849\\nsamples = 2242\\nvalue = [1625, 617]'),\n",
       " Text(139.75135135135133, 12.079999999999984, 'entropy = 0.913\\nsamples = 1120\\nvalue = [752, 368]'),\n",
       " Text(142.76756756756757, 36.24000000000001, 'X[3] <= 2.5\\nentropy = 0.781\\nsamples = 1445\\nvalue = [1110, 335]'),\n",
       " Text(141.76216216216216, 12.079999999999984, 'entropy = 0.76\\nsamples = 1374\\nvalue = [1072, 302]'),\n",
       " Text(143.77297297297295, 12.079999999999984, 'entropy = 0.996\\nsamples = 71\\nvalue = [38, 33]'),\n",
       " Text(149.3027027027027, 108.72, 'X[4] <= 7.0\\nentropy = 0.824\\nsamples = 8352\\nvalue = [6195, 2157]'),\n",
       " Text(145.78378378378378, 84.56, 'X[7] <= 5.5\\nentropy = 0.073\\nsamples = 114\\nvalue = [1, 113]'),\n",
       " Text(144.77837837837836, 60.400000000000006, 'entropy = 0.0\\nsamples = 111\\nvalue = [0, 111]'),\n",
       " Text(146.7891891891892, 60.400000000000006, 'entropy = 0.918\\nsamples = 3\\nvalue = [1, 2]'),\n",
       " Text(152.8216216216216, 84.56, 'X[6] <= 3.5\\nentropy = 0.808\\nsamples = 8238\\nvalue = [6194, 2044]'),\n",
       " Text(148.79999999999998, 60.400000000000006, 'X[5] <= 11.0\\nentropy = 0.685\\nsamples = 4463\\nvalue = [3650, 813]'),\n",
       " Text(146.7891891891892, 36.24000000000001, 'X[7] <= 3.0\\nentropy = 0.154\\nsamples = 627\\nvalue = [613, 14]'),\n",
       " Text(145.78378378378378, 12.079999999999984, 'entropy = 0.619\\nsamples = 78\\nvalue = [66, 12]'),\n",
       " Text(147.7945945945946, 12.079999999999984, 'entropy = 0.035\\nsamples = 549\\nvalue = [547, 2]'),\n",
       " Text(150.8108108108108, 36.24000000000001, 'X[4] <= 13.5\\nentropy = 0.738\\nsamples = 3836\\nvalue = [3037, 799]'),\n",
       " Text(149.8054054054054, 12.079999999999984, 'entropy = 0.717\\nsamples = 3768\\nvalue = [3024, 744]'),\n",
       " Text(151.81621621621622, 12.079999999999984, 'entropy = 0.704\\nsamples = 68\\nvalue = [13, 55]'),\n",
       " Text(156.84324324324322, 60.400000000000006, 'X[3] <= 0.5\\nentropy = 0.911\\nsamples = 3775\\nvalue = [2544, 1231]'),\n",
       " Text(154.83243243243243, 36.24000000000001, 'X[6] <= 5.5\\nentropy = 0.876\\nsamples = 3056\\nvalue = [2152, 904]'),\n",
       " Text(153.82702702702701, 12.079999999999984, 'entropy = 0.843\\nsamples = 2573\\nvalue = [1875, 698]'),\n",
       " Text(155.83783783783784, 12.079999999999984, 'entropy = 0.984\\nsamples = 483\\nvalue = [277, 206]'),\n",
       " Text(158.85405405405405, 36.24000000000001, 'X[7] <= 0.5\\nentropy = 0.994\\nsamples = 719\\nvalue = [392, 327]'),\n",
       " Text(157.84864864864863, 12.079999999999984, 'entropy = 0.787\\nsamples = 136\\nvalue = [32, 104]'),\n",
       " Text(159.85945945945946, 12.079999999999984, 'entropy = 0.96\\nsamples = 583\\nvalue = [360, 223]'),\n",
       " Text(185.12027027027025, 132.88, 'X[4] <= 21.0\\nentropy = 0.907\\nsamples = 10676\\nvalue = [7235, 3441]'),\n",
       " Text(175.44324324324324, 108.72, 'X[6] <= 2.5\\nentropy = 0.857\\nsamples = 9796\\nvalue = [7043, 2753]'),\n",
       " Text(168.9081081081081, 84.56, 'X[5] <= 21.0\\nentropy = 0.82\\nsamples = 9082\\nvalue = [6758, 2324]'),\n",
       " Text(164.8864864864865, 60.400000000000006, 'X[3] <= 19.5\\nentropy = 0.775\\nsamples = 7887\\nvalue = [6086, 1801]'),\n",
       " Text(162.87567567567567, 36.24000000000001, 'X[4] <= 12.5\\nentropy = 0.748\\nsamples = 7035\\nvalue = [5535, 1500]'),\n",
       " Text(161.87027027027025, 12.079999999999984, 'entropy = 0.696\\nsamples = 4805\\nvalue = [3904, 901]'),\n",
       " Text(163.88108108108108, 12.079999999999984, 'entropy = 0.839\\nsamples = 2230\\nvalue = [1631, 599]'),\n",
       " Text(166.89729729729729, 36.24000000000001, 'X[3] <= 40.5\\nentropy = 0.937\\nsamples = 852\\nvalue = [551, 301]'),\n",
       " Text(165.89189189189187, 12.079999999999984, 'entropy = 0.983\\nsamples = 637\\nvalue = [368, 269]'),\n",
       " Text(167.9027027027027, 12.079999999999984, 'entropy = 0.607\\nsamples = 215\\nvalue = [183, 32]'),\n",
       " Text(172.92972972972973, 60.400000000000006, 'X[7] <= 5.5\\nentropy = 0.989\\nsamples = 1195\\nvalue = [672, 523]'),\n",
       " Text(170.9189189189189, 36.24000000000001, 'X[3] <= 18.5\\nentropy = 0.942\\nsamples = 884\\nvalue = [567, 317]'),\n",
       " Text(169.9135135135135, 12.079999999999984, 'entropy = 0.986\\nsamples = 656\\nvalue = [374, 282]'),\n",
       " Text(171.92432432432432, 12.079999999999984, 'entropy = 0.619\\nsamples = 228\\nvalue = [193, 35]'),\n",
       " Text(174.94054054054052, 36.24000000000001, 'X[3] <= 72.5\\nentropy = 0.923\\nsamples = 311\\nvalue = [105, 206]'),\n",
       " Text(173.9351351351351, 12.079999999999984, 'entropy = 0.852\\nsamples = 285\\nvalue = [79, 206]'),\n",
       " Text(175.94594594594594, 12.079999999999984, 'entropy = 0.0\\nsamples = 26\\nvalue = [26, 0]'),\n",
       " Text(181.97837837837838, 84.56, 'X[7] <= 4.5\\nentropy = 0.97\\nsamples = 714\\nvalue = [285, 429]'),\n",
       " Text(179.96756756756756, 60.400000000000006, 'X[5] <= 17.0\\nentropy = 1.0\\nsamples = 538\\nvalue = [269, 269]'),\n",
       " Text(178.96216216216214, 36.24000000000001, 'X[3] <= 5.5\\nentropy = 0.996\\nsamples = 501\\nvalue = [232, 269]'),\n",
       " Text(177.95675675675676, 12.079999999999984, 'entropy = 0.84\\nsamples = 104\\nvalue = [76, 28]'),\n",
       " Text(179.96756756756756, 12.079999999999984, 'entropy = 0.967\\nsamples = 397\\nvalue = [156, 241]'),\n",
       " Text(180.97297297297297, 36.24000000000001, 'entropy = 0.0\\nsamples = 37\\nvalue = [37, 0]'),\n",
       " Text(183.98918918918918, 60.400000000000006, 'X[3] <= 5.5\\nentropy = 0.439\\nsamples = 176\\nvalue = [16, 160]'),\n",
       " Text(182.98378378378376, 36.24000000000001, 'entropy = 0.0\\nsamples = 16\\nvalue = [16, 0]'),\n",
       " Text(184.9945945945946, 36.24000000000001, 'entropy = 0.0\\nsamples = 160\\nvalue = [0, 160]'),\n",
       " Text(194.7972972972973, 108.72, 'X[7] <= 1.5\\nentropy = 0.757\\nsamples = 880\\nvalue = [192, 688]'),\n",
       " Text(190.02162162162162, 84.56, 'X[3] <= 8.0\\nentropy = 0.353\\nsamples = 391\\nvalue = [26, 365]'),\n",
       " Text(189.0162162162162, 60.400000000000006, 'X[7] <= 0.5\\nentropy = 0.64\\nsamples = 160\\nvalue = [26, 134]'),\n",
       " Text(187.00540540540538, 36.24000000000001, 'X[5] <= 1.0\\nentropy = 0.436\\nsamples = 89\\nvalue = [8, 81]'),\n",
       " Text(186.0, 12.079999999999984, 'entropy = 0.0\\nsamples = 61\\nvalue = [0, 61]'),\n",
       " Text(188.0108108108108, 12.079999999999984, 'entropy = 0.863\\nsamples = 28\\nvalue = [8, 20]'),\n",
       " Text(191.027027027027, 36.24000000000001, 'X[5] <= 1.0\\nentropy = 0.817\\nsamples = 71\\nvalue = [18, 53]'),\n",
       " Text(190.02162162162162, 12.079999999999984, 'entropy = 0.912\\nsamples = 55\\nvalue = [18, 37]'),\n",
       " Text(192.03243243243242, 12.079999999999984, 'entropy = 0.0\\nsamples = 16\\nvalue = [0, 16]'),\n",
       " Text(191.027027027027, 60.400000000000006, 'entropy = 0.0\\nsamples = 231\\nvalue = [0, 231]'),\n",
       " Text(199.57297297297296, 84.56, 'X[3] <= 14.5\\nentropy = 0.924\\nsamples = 489\\nvalue = [166, 323]'),\n",
       " Text(197.05945945945945, 60.400000000000006, 'X[7] <= 3.5\\nentropy = 0.992\\nsamples = 317\\nvalue = [142, 175]'),\n",
       " Text(195.04864864864865, 36.24000000000001, 'X[3] <= 12.5\\nentropy = 0.957\\nsamples = 119\\nvalue = [74, 45]'),\n",
       " Text(194.04324324324324, 12.079999999999984, 'entropy = 0.985\\nsamples = 105\\nvalue = [60, 45]'),\n",
       " Text(196.05405405405403, 12.079999999999984, 'entropy = 0.0\\nsamples = 14\\nvalue = [14, 0]'),\n",
       " Text(199.07027027027027, 36.24000000000001, 'X[3] <= 5.5\\nentropy = 0.928\\nsamples = 198\\nvalue = [68, 130]'),\n",
       " Text(198.06486486486486, 12.079999999999984, 'entropy = 0.764\\nsamples = 18\\nvalue = [14, 4]'),\n",
       " Text(200.07567567567565, 12.079999999999984, 'entropy = 0.881\\nsamples = 180\\nvalue = [54, 126]'),\n",
       " Text(202.08648648648648, 60.400000000000006, 'X[3] <= 25.5\\nentropy = 0.583\\nsamples = 172\\nvalue = [24, 148]'),\n",
       " Text(201.08108108108107, 36.24000000000001, 'entropy = 0.0\\nsamples = 119\\nvalue = [0, 119]'),\n",
       " Text(203.0918918918919, 36.24000000000001, 'X[7] <= 4.5\\nentropy = 0.994\\nsamples = 53\\nvalue = [24, 29]'),\n",
       " Text(202.08648648648648, 12.079999999999984, 'entropy = 0.753\\nsamples = 37\\nvalue = [8, 29]'),\n",
       " Text(204.09729729729727, 12.079999999999984, 'entropy = 0.0\\nsamples = 16\\nvalue = [16, 0]'),\n",
       " Text(260.55709459459456, 181.2, 'X[6] <= 1.5\\nentropy = 0.137\\nsamples = 531092\\nvalue = [520907, 10185]'),\n",
       " Text(225.83918918918917, 157.04, 'X[6] <= -0.5\\nentropy = 0.118\\nsamples = 440021\\nvalue = [433037, 6984]'),\n",
       " Text(224.83378378378376, 132.88, 'entropy = 0.0\\nsamples = 72\\nvalue = [0, 72]'),\n",
       " Text(226.84459459459458, 132.88, 'X[5] <= 1.0\\nentropy = 0.117\\nsamples = 439949\\nvalue = [433037, 6912]'),\n",
       " Text(216.9162162162162, 108.72, 'X[6] <= 0.5\\nentropy = 0.199\\nsamples = 17891\\nvalue = [17336, 555]'),\n",
       " Text(211.63783783783782, 84.56, 'X[0] <= 9.5\\nentropy = 0.358\\nsamples = 2565\\nvalue = [2391, 174]'),\n",
       " Text(209.1243243243243, 60.400000000000006, 'X[7] <= 3.5\\nentropy = 0.362\\nsamples = 2506\\nvalue = [2333, 173]'),\n",
       " Text(207.1135135135135, 36.24000000000001, 'X[7] <= 2.5\\nentropy = 0.387\\nsamples = 1465\\nvalue = [1354, 111]'),\n",
       " Text(206.1081081081081, 12.079999999999984, 'entropy = 0.351\\nsamples = 1059\\nvalue = [989, 70]'),\n",
       " Text(208.1189189189189, 12.079999999999984, 'entropy = 0.472\\nsamples = 406\\nvalue = [365, 41]'),\n",
       " Text(211.13513513513513, 36.24000000000001, 'X[7] <= 4.5\\nentropy = 0.326\\nsamples = 1041\\nvalue = [979, 62]'),\n",
       " Text(210.12972972972972, 12.079999999999984, 'entropy = 0.224\\nsamples = 360\\nvalue = [347, 13]'),\n",
       " Text(212.14054054054054, 12.079999999999984, 'entropy = 0.373\\nsamples = 681\\nvalue = [632, 49]'),\n",
       " Text(214.15135135135134, 60.400000000000006, 'X[0] <= 19.0\\nentropy = 0.124\\nsamples = 59\\nvalue = [58, 1]'),\n",
       " Text(213.14594594594593, 36.24000000000001, 'entropy = 0.0\\nsamples = 46\\nvalue = [46, 0]'),\n",
       " Text(215.15675675675675, 36.24000000000001, 'X[0] <= 20.5\\nentropy = 0.391\\nsamples = 13\\nvalue = [12, 1]'),\n",
       " Text(214.15135135135134, 12.079999999999984, 'entropy = 0.722\\nsamples = 5\\nvalue = [4, 1]'),\n",
       " Text(216.16216216216216, 12.079999999999984, 'entropy = 0.0\\nsamples = 8\\nvalue = [8, 0]'),\n",
       " Text(222.19459459459458, 84.56, 'X[3] <= 0.5\\nentropy = 0.168\\nsamples = 15326\\nvalue = [14945, 381]'),\n",
       " Text(221.18918918918916, 60.400000000000006, 'X[7] <= 4.5\\nentropy = 0.171\\nsamples = 14999\\nvalue = [14618, 381]'),\n",
       " Text(219.17837837837837, 36.24000000000001, 'X[7] <= 3.5\\nentropy = 0.185\\nsamples = 10481\\nvalue = [10185, 296]'),\n",
       " Text(218.17297297297296, 12.079999999999984, 'entropy = 0.167\\nsamples = 8663\\nvalue = [8449, 214]'),\n",
       " Text(220.18378378378378, 12.079999999999984, 'entropy = 0.265\\nsamples = 1818\\nvalue = [1736, 82]'),\n",
       " Text(223.2, 36.24000000000001, 'X[0] <= 5.5\\nentropy = 0.135\\nsamples = 4518\\nvalue = [4433, 85]'),\n",
       " Text(222.19459459459458, 12.079999999999984, 'entropy = 0.138\\nsamples = 4337\\nvalue = [4253, 84]'),\n",
       " Text(224.2054054054054, 12.079999999999984, 'entropy = 0.049\\nsamples = 181\\nvalue = [180, 1]'),\n",
       " Text(223.2, 60.400000000000006, 'entropy = 0.0\\nsamples = 327\\nvalue = [327, 0]'),\n",
       " Text(236.77297297297295, 108.72, 'X[3] <= 22.5\\nentropy = 0.113\\nsamples = 422058\\nvalue = [415701, 6357]'),\n",
       " Text(233.25405405405405, 84.56, 'X[3] <= 0.5\\nentropy = 0.112\\nsamples = 421230\\nvalue = [414938, 6292]'),\n",
       " Text(229.23243243243243, 60.400000000000006, 'X[4] <= 15.5\\nentropy = 0.115\\nsamples = 390431\\nvalue = [384424, 6007]'),\n",
       " Text(227.2216216216216, 36.24000000000001, 'X[5] <= 16.5\\nentropy = 0.123\\nsamples = 219208\\nvalue = [215543, 3665]'),\n",
       " Text(226.2162162162162, 12.079999999999984, 'entropy = 0.121\\nsamples = 212876\\nvalue = [209383, 3493]'),\n",
       " Text(228.22702702702702, 12.079999999999984, 'entropy = 0.18\\nsamples = 6332\\nvalue = [6160, 172]'),\n",
       " Text(231.24324324324323, 36.24000000000001, 'X[4] <= 17.0\\nentropy = 0.104\\nsamples = 171223\\nvalue = [168881, 2342]'),\n",
       " Text(230.23783783783782, 12.079999999999984, 'entropy = 0.084\\nsamples = 67543\\nvalue = [66837, 706]'),\n",
       " Text(232.24864864864864, 12.079999999999984, 'entropy = 0.117\\nsamples = 103680\\nvalue = [102044, 1636]'),\n",
       " Text(237.27567567567567, 60.400000000000006, 'X[6] <= 0.5\\nentropy = 0.076\\nsamples = 30799\\nvalue = [30514, 285]'),\n",
       " Text(235.26486486486485, 36.24000000000001, 'X[5] <= 16.5\\nentropy = 0.196\\nsamples = 1555\\nvalue = [1508, 47]'),\n",
       " Text(234.25945945945944, 12.079999999999984, 'entropy = 0.0\\nsamples = 26\\nvalue = [0, 26]'),\n",
       " Text(236.27027027027026, 12.079999999999984, 'entropy = 0.105\\nsamples = 1529\\nvalue = [1508, 21]'),\n",
       " Text(239.28648648648647, 36.24000000000001, 'X[0] <= 6.5\\nentropy = 0.068\\nsamples = 29244\\nvalue = [29006, 238]'),\n",
       " Text(238.28108108108106, 12.079999999999984, 'entropy = 0.061\\nsamples = 27375\\nvalue = [27179, 196]'),\n",
       " Text(240.29189189189188, 12.079999999999984, 'entropy = 0.155\\nsamples = 1869\\nvalue = [1827, 42]'),\n",
       " Text(240.29189189189188, 84.56, 'X[6] <= 0.5\\nentropy = 0.397\\nsamples = 828\\nvalue = [763, 65]'),\n",
       " Text(239.28648648648647, 60.400000000000006, 'entropy = 0.0\\nsamples = 65\\nvalue = [0, 65]'),\n",
       " Text(241.2972972972973, 60.400000000000006, 'entropy = 0.0\\nsamples = 763\\nvalue = [763, 0]'),\n",
       " Text(295.275, 157.04, 'X[5] <= 12.5\\nentropy = 0.22\\nsamples = 91071\\nvalue = [87870, 3201]'),\n",
       " Text(269.44864864864866, 132.88, 'X[7] <= 2.5\\nentropy = 0.18\\nsamples = 50874\\nvalue = [49491, 1383]'),\n",
       " Text(256.127027027027, 108.72, 'X[6] <= 2.5\\nentropy = 0.251\\nsamples = 15663\\nvalue = [15007, 656]'),\n",
       " Text(249.34054054054053, 84.56, 'X[4] <= 7.0\\nentropy = 0.216\\nsamples = 14249\\nvalue = [13760, 489]'),\n",
       " Text(245.3189189189189, 60.400000000000006, 'X[7] <= 0.5\\nentropy = 0.091\\nsamples = 2341\\nvalue = [2314, 27]'),\n",
       " Text(243.3081081081081, 36.24000000000001, 'X[5] <= 5.0\\nentropy = 0.155\\nsamples = 713\\nvalue = [697, 16]'),\n",
       " Text(242.3027027027027, 12.079999999999984, 'entropy = 0.0\\nsamples = 145\\nvalue = [145, 0]'),\n",
       " Text(244.3135135135135, 12.079999999999984, 'entropy = 0.185\\nsamples = 568\\nvalue = [552, 16]'),\n",
       " Text(247.3297297297297, 36.24000000000001, 'X[0] <= 12.5\\nentropy = 0.058\\nsamples = 1628\\nvalue = [1617, 11]'),\n",
       " Text(246.32432432432432, 12.079999999999984, 'entropy = 0.054\\nsamples = 1615\\nvalue = [1605, 10]'),\n",
       " Text(248.33513513513512, 12.079999999999984, 'entropy = 0.391\\nsamples = 13\\nvalue = [12, 1]'),\n",
       " Text(253.36216216216215, 60.400000000000006, 'X[0] <= 6.5\\nentropy = 0.237\\nsamples = 11908\\nvalue = [11446, 462]'),\n",
       " Text(251.35135135135133, 36.24000000000001, 'X[3] <= 2.5\\nentropy = 0.223\\nsamples = 11377\\nvalue = [10969, 408]'),\n",
       " Text(250.34594594594594, 12.079999999999984, 'entropy = 0.227\\nsamples = 11093\\nvalue = [10685, 408]'),\n",
       " Text(252.35675675675674, 12.079999999999984, 'entropy = 0.0\\nsamples = 284\\nvalue = [284, 0]'),\n",
       " Text(255.37297297297295, 36.24000000000001, 'X[0] <= 26.0\\nentropy = 0.474\\nsamples = 531\\nvalue = [477, 54]'),\n",
       " Text(254.36756756756756, 12.079999999999984, 'entropy = 0.435\\nsamples = 491\\nvalue = [447, 44]'),\n",
       " Text(256.3783783783784, 12.079999999999984, 'entropy = 0.811\\nsamples = 40\\nvalue = [30, 10]'),\n",
       " Text(262.9135135135135, 84.56, 'X[6] <= 4.5\\nentropy = 0.524\\nsamples = 1414\\nvalue = [1247, 167]'),\n",
       " Text(260.4, 60.400000000000006, 'X[3] <= 2.5\\nentropy = 0.846\\nsamples = 520\\nvalue = [378, 142]'),\n",
       " Text(259.3945945945946, 36.24000000000001, 'X[6] <= 3.5\\nentropy = 0.888\\nsamples = 465\\nvalue = [323, 142]'),\n",
       " Text(258.38918918918915, 12.079999999999984, 'entropy = 0.843\\nsamples = 395\\nvalue = [288, 107]'),\n",
       " Text(260.4, 12.079999999999984, 'entropy = 1.0\\nsamples = 70\\nvalue = [35, 35]'),\n",
       " Text(261.4054054054054, 36.24000000000001, 'entropy = 0.0\\nsamples = 55\\nvalue = [55, 0]'),\n",
       " Text(265.427027027027, 60.400000000000006, 'X[0] <= 2.5\\nentropy = 0.184\\nsamples = 894\\nvalue = [869, 25]'),\n",
       " Text(263.4162162162162, 36.24000000000001, 'X[4] <= 9.0\\nentropy = 0.084\\nsamples = 664\\nvalue = [657, 7]'),\n",
       " Text(262.4108108108108, 12.079999999999984, 'entropy = 0.0\\nsamples = 371\\nvalue = [371, 0]'),\n",
       " Text(264.4216216216216, 12.079999999999984, 'entropy = 0.163\\nsamples = 293\\nvalue = [286, 7]'),\n",
       " Text(267.43783783783783, 36.24000000000001, 'X[4] <= 9.0\\nentropy = 0.396\\nsamples = 230\\nvalue = [212, 18]'),\n",
       " Text(266.4324324324324, 12.079999999999984, 'entropy = 0.151\\nsamples = 138\\nvalue = [135, 3]'),\n",
       " Text(268.4432432432432, 12.079999999999984, 'entropy = 0.642\\nsamples = 92\\nvalue = [77, 15]'),\n",
       " Text(282.77027027027026, 108.72, 'X[4] <= 3.0\\nentropy = 0.145\\nsamples = 35211\\nvalue = [34484, 727]'),\n",
       " Text(275.9837837837838, 84.56, 'X[7] <= 4.5\\nentropy = 0.464\\nsamples = 1037\\nvalue = [935, 102]'),\n",
       " Text(273.47027027027025, 60.400000000000006, 'X[0] <= 1.5\\nentropy = 0.582\\nsamples = 661\\nvalue = [569, 92]'),\n",
       " Text(271.4594594594594, 36.24000000000001, 'X[7] <= 3.5\\nentropy = 0.619\\nsamples = 469\\nvalue = [397, 72]'),\n",
       " Text(270.45405405405404, 12.079999999999984, 'entropy = 0.551\\nsamples = 282\\nvalue = [246, 36]'),\n",
       " Text(272.46486486486486, 12.079999999999984, 'entropy = 0.707\\nsamples = 187\\nvalue = [151, 36]'),\n",
       " Text(275.4810810810811, 36.24000000000001, 'X[7] <= 3.5\\nentropy = 0.482\\nsamples = 192\\nvalue = [172, 20]'),\n",
       " Text(274.4756756756757, 12.079999999999984, 'entropy = 0.559\\nsamples = 115\\nvalue = [100, 15]'),\n",
       " Text(276.48648648648646, 12.079999999999984, 'entropy = 0.347\\nsamples = 77\\nvalue = [72, 5]'),\n",
       " Text(278.4972972972973, 60.400000000000006, 'X[7] <= 5.5\\nentropy = 0.177\\nsamples = 376\\nvalue = [366, 10]'),\n",
       " Text(277.4918918918919, 36.24000000000001, 'entropy = 0.0\\nsamples = 171\\nvalue = [171, 0]'),\n",
       " Text(279.50270270270266, 36.24000000000001, 'X[0] <= 3.5\\nentropy = 0.281\\nsamples = 205\\nvalue = [195, 10]'),\n",
       " Text(278.4972972972973, 12.079999999999984, 'entropy = 0.234\\nsamples = 183\\nvalue = [176, 7]'),\n",
       " Text(280.5081081081081, 12.079999999999984, 'entropy = 0.575\\nsamples = 22\\nvalue = [19, 3]'),\n",
       " Text(289.5567567567567, 84.56, 'X[3] <= 1.5\\nentropy = 0.132\\nsamples = 34174\\nvalue = [33549, 625]'),\n",
       " Text(285.53513513513514, 60.400000000000006, 'X[7] <= 5.5\\nentropy = 0.139\\nsamples = 30947\\nvalue = [30341, 606]'),\n",
       " Text(283.5243243243243, 36.24000000000001, 'X[7] <= 4.5\\nentropy = 0.13\\nsamples = 27227\\nvalue = [26737, 490]'),\n",
       " Text(282.5189189189189, 12.079999999999984, 'entropy = 0.147\\nsamples = 20278\\nvalue = [19852, 426]'),\n",
       " Text(284.5297297297297, 12.079999999999984, 'entropy = 0.076\\nsamples = 6949\\nvalue = [6885, 64]'),\n",
       " Text(287.5459459459459, 36.24000000000001, 'X[6] <= 2.5\\nentropy = 0.2\\nsamples = 3720\\nvalue = [3604, 116]'),\n",
       " Text(286.5405405405405, 12.079999999999984, 'entropy = 0.186\\nsamples = 3677\\nvalue = [3573, 104]'),\n",
       " Text(288.55135135135134, 12.079999999999984, 'entropy = 0.854\\nsamples = 43\\nvalue = [31, 12]'),\n",
       " Text(293.5783783783784, 60.400000000000006, 'X[3] <= 6.5\\nentropy = 0.052\\nsamples = 3227\\nvalue = [3208, 19]'),\n",
       " Text(291.56756756756755, 36.24000000000001, 'X[7] <= 4.5\\nentropy = 0.029\\nsamples = 2754\\nvalue = [2746, 8]'),\n",
       " Text(290.56216216216217, 12.079999999999984, 'entropy = 0.014\\nsamples = 2444\\nvalue = [2441, 3]'),\n",
       " Text(292.57297297297293, 12.079999999999984, 'entropy = 0.119\\nsamples = 310\\nvalue = [305, 5]'),\n",
       " Text(295.5891891891892, 36.24000000000001, 'X[7] <= 3.5\\nentropy = 0.159\\nsamples = 473\\nvalue = [462, 11]'),\n",
       " Text(294.58378378378376, 12.079999999999984, 'entropy = 0.794\\nsamples = 46\\nvalue = [35, 11]'),\n",
       " Text(296.5945945945946, 12.079999999999984, 'entropy = 0.0\\nsamples = 427\\nvalue = [427, 0]'),\n",
       " Text(321.10135135135135, 132.88, 'X[6] <= 4.5\\nentropy = 0.266\\nsamples = 40197\\nvalue = [38379, 1818]'),\n",
       " Text(311.4243243243243, 108.72, 'X[6] <= 2.5\\nentropy = 0.255\\nsamples = 39438\\nvalue = [37747, 1691]'),\n",
       " Text(305.14054054054054, 84.56, 'X[4] <= 19.5\\nentropy = 0.241\\nsamples = 34000\\nvalue = [32649, 1351]'),\n",
       " Text(301.6216216216216, 60.400000000000006, 'X[3] <= 22.0\\nentropy = 0.229\\nsamples = 28349\\nvalue = [27296, 1053]'),\n",
       " Text(299.6108108108108, 36.24000000000001, 'X[3] <= 5.5\\nentropy = 0.228\\nsamples = 28337\\nvalue = [27290, 1047]'),\n",
       " Text(298.6054054054054, 12.079999999999984, 'entropy = 0.23\\nsamples = 27941\\nvalue = [26895, 1046]'),\n",
       " Text(300.6162162162162, 12.079999999999984, 'entropy = 0.025\\nsamples = 396\\nvalue = [395, 1]'),\n",
       " Text(303.63243243243244, 36.24000000000001, 'X[4] <= 13.0\\nentropy = 1.0\\nsamples = 12\\nvalue = [6, 6]'),\n",
       " Text(302.627027027027, 12.079999999999984, 'entropy = 0.0\\nsamples = 6\\nvalue = [6, 0]'),\n",
       " Text(304.6378378378378, 12.079999999999984, 'entropy = 0.0\\nsamples = 6\\nvalue = [0, 6]'),\n",
       " Text(308.65945945945947, 60.400000000000006, 'X[3] <= 0.5\\nentropy = 0.298\\nsamples = 5651\\nvalue = [5353, 298]'),\n",
       " Text(307.65405405405403, 36.24000000000001, 'X[7] <= 4.5\\nentropy = 0.309\\nsamples = 5366\\nvalue = [5068, 298]'),\n",
       " Text(306.64864864864865, 12.079999999999984, 'entropy = 0.29\\nsamples = 4182\\nvalue = [3969, 213]'),\n",
       " Text(308.65945945945947, 12.079999999999984, 'entropy = 0.373\\nsamples = 1184\\nvalue = [1099, 85]'),\n",
       " Text(309.66486486486485, 36.24000000000001, 'entropy = 0.0\\nsamples = 285\\nvalue = [285, 0]'),\n",
       " Text(317.7081081081081, 84.56, 'X[7] <= 3.5\\nentropy = 0.337\\nsamples = 5438\\nvalue = [5098, 340]'),\n",
       " Text(313.68648648648644, 60.400000000000006, 'X[5] <= 15.0\\nentropy = 0.445\\nsamples = 2302\\nvalue = [2089, 213]'),\n",
       " Text(311.6756756756757, 36.24000000000001, 'X[3] <= 4.5\\nentropy = 0.566\\nsamples = 1262\\nvalue = [1094, 168]'),\n",
       " Text(310.67027027027024, 12.079999999999984, 'entropy = 0.532\\nsamples = 1209\\nvalue = [1063, 146]'),\n",
       " Text(312.68108108108106, 12.079999999999984, 'entropy = 0.979\\nsamples = 53\\nvalue = [31, 22]'),\n",
       " Text(315.69729729729727, 36.24000000000001, 'X[4] <= 13.5\\nentropy = 0.257\\nsamples = 1040\\nvalue = [995, 45]'),\n",
       " Text(314.6918918918919, 12.079999999999984, 'entropy = 0.206\\nsamples = 803\\nvalue = [777, 26]'),\n",
       " Text(316.7027027027027, 12.079999999999984, 'entropy = 0.403\\nsamples = 237\\nvalue = [218, 19]'),\n",
       " Text(321.7297297297297, 60.400000000000006, 'X[5] <= 13.5\\nentropy = 0.245\\nsamples = 3136\\nvalue = [3009, 127]'),\n",
       " Text(319.7189189189189, 36.24000000000001, 'X[6] <= 3.5\\nentropy = 0.509\\nsamples = 221\\nvalue = [196, 25]'),\n",
       " Text(318.7135135135135, 12.079999999999984, 'entropy = 0.655\\nsamples = 148\\nvalue = [123, 25]'),\n",
       " Text(320.7243243243243, 12.079999999999984, 'entropy = 0.0\\nsamples = 73\\nvalue = [73, 0]'),\n",
       " Text(323.7405405405405, 36.24000000000001, 'X[4] <= 11.0\\nentropy = 0.219\\nsamples = 2915\\nvalue = [2813, 102]'),\n",
       " Text(322.7351351351351, 12.079999999999984, 'entropy = 0.028\\nsamples = 349\\nvalue = [348, 1]'),\n",
       " Text(324.74594594594595, 12.079999999999984, 'entropy = 0.239\\nsamples = 2566\\nvalue = [2465, 101]'),\n",
       " Text(330.77837837837836, 108.72, 'X[3] <= 6.0\\nentropy = 0.652\\nsamples = 759\\nvalue = [632, 127]'),\n",
       " Text(329.772972972973, 84.56, 'X[4] <= 11.0\\nentropy = 0.591\\nsamples = 737\\nvalue = [632, 105]'),\n",
       " Text(326.7567567567567, 60.400000000000006, 'X[7] <= 0.5\\nentropy = 0.407\\nsamples = 430\\nvalue = [395, 35]'),\n",
       " Text(325.75135135135133, 36.24000000000001, 'entropy = 0.0\\nsamples = 67\\nvalue = [67, 0]'),\n",
       " Text(327.76216216216216, 36.24000000000001, 'X[7] <= 4.5\\nentropy = 0.458\\nsamples = 363\\nvalue = [328, 35]'),\n",
       " Text(326.7567567567567, 12.079999999999984, 'entropy = 0.512\\nsamples = 307\\nvalue = [272, 35]'),\n",
       " Text(328.76756756756754, 12.079999999999984, 'entropy = 0.0\\nsamples = 56\\nvalue = [56, 0]'),\n",
       " Text(332.7891891891892, 60.400000000000006, 'X[3] <= 2.5\\nentropy = 0.775\\nsamples = 307\\nvalue = [237, 70]'),\n",
       " Text(331.78378378378375, 36.24000000000001, 'X[6] <= 6.5\\nentropy = 0.831\\nsamples = 266\\nvalue = [196, 70]'),\n",
       " Text(330.77837837837836, 12.079999999999984, 'entropy = 0.8\\nsamples = 255\\nvalue = [193, 62]'),\n",
       " Text(332.7891891891892, 12.079999999999984, 'entropy = 0.845\\nsamples = 11\\nvalue = [3, 8]'),\n",
       " Text(333.79459459459457, 36.24000000000001, 'entropy = 0.0\\nsamples = 41\\nvalue = [41, 0]'),\n",
       " Text(331.78378378378375, 84.56, 'entropy = 0.0\\nsamples = 22\\nvalue = [0, 22]')]"
      ]
     },
     "execution_count": 46,
     "metadata": {},
     "output_type": "execute_result"
    },
    {
     "data": {
      "image/png": "[encoded data removed]",
      "text/plain": [
       "<Figure size 432x288 with 1 Axes>"
      ]
     },
     "metadata": {
      "needs_background": "light"
     },
     "output_type": "display_data"
    }
   ],
   "source": [
    "from sklearn import tree\n",
    "tree.plot_tree(model.fit(X_train, Y_train))\n",
    "tree.plot_tree(model2.fit(X_train, Y_train))"
   ]
  },
  {
   "cell_type": "markdown",
   "metadata": {},
   "source": [
    "Также, нужно построить ROC-кривую:\n",
    "\n",
    "*ROC-кривая (англ. receiver operating characteristic, рабочая характеристика приёмника) — график, позволяющий оценить качество бинарной классификации, отображает соотношение между долей объектов от общего количества носителей признака, верно классифицированных как несущие признак (англ. true positive rate, TPR, называемой чувствительностью алгоритма классификации), и долей объектов от общего количества объектов, не несущих признака, ошибочно классифицированных как несущие признак (англ. false positive rate, FPR) при варьировании порога решающего правила. Количественную интерпретацию ROC даёт показатель AUC (англ. area under ROC curve, площадь под ROC-кривой) — площадь, ограниченная ROC-кривой и осью доли ложных положительных классификаций. Чем выше показатель AUC, тем качественнее классификатор, при этом значение 0,5 демонстрирует непригодность выбранного метода классификации (соответствует случайному гаданию).*"
   ]
  },
  {
   "cell_type": "markdown",
   "metadata": {},
   "source": [
    "Импортируем нужные библиотеки:"
   ]
  },
  {
   "cell_type": "code",
   "execution_count": 48,
   "metadata": {},
   "outputs": [],
   "source": [
    "from sklearn.metrics import roc_curve, auc, roc_auc_score"
   ]
  },
  {
   "cell_type": "markdown",
   "metadata": {},
   "source": [
    "Рисуем нашу кривую:"
   ]
  },
  {
   "cell_type": "code",
   "execution_count": 52,
   "metadata": {},
   "outputs": [],
   "source": [
    "pred_proba = model.predict_proba(X_test)"
   ]
  },
  {
   "cell_type": "code",
   "execution_count": 59,
   "metadata": {},
   "outputs": [
    {
     "name": "stdout",
     "output_type": "stream",
     "text": [
      "0.6380625245334907\n"
     ]
    },
    {
     "data": {
      "image/png": "[encoded data removed]",
      "text/plain": [
       "<Figure size 432x288 with 1 Axes>"
      ]
     },
     "metadata": {
      "needs_background": "light"
     },
     "output_type": "display_data"
    }
   ],
   "source": [
    "#fpr - false positive rate, tpr - true positive rate\n",
    "fpr, tpr, thresholds = roc_curve(Y_test,pred_proba[:,1])\n",
    "print(roc_auc_score(Y_test,pred_proba[:,1]))\n",
    "plt.plot(fpr,tpr)\n",
    "plt.xlim([0.0,1.0])\n",
    "plt.ylim([0.0,1.0])\n",
    "\n",
    "plt.title(\"ROC AUC - Decision tree\")\n",
    "plt.xlabel(\"False Positive\")\n",
    "plt.ylabel(\"True Positive\")\n",
    "\n",
    "plt.grid(True)\n",
    "plt.show()"
   ]
  },
  {
   "cell_type": "markdown",
   "metadata": {},
   "source": [
    "### Random Forest Classifier"
   ]
  },
  {
   "cell_type": "markdown",
   "metadata": {},
   "source": [
    "***Random forest (с англ. — «случайный лес») — алгоритм машинного обучения, предложенный Лео Брейманом и Адель Катлер, заключающийся в использовании комитета (ансамбля) решающих деревьев. Алгоритм сочетает в себе две основные идеи: метод бэггинга Бреймана, и метод случайных подпространств, предложенный Tin Kam Ho. Алгоритм применяется для задач классификации, регрессии и кластеризации. Основная идея заключается в использовании большого ансамбля решающих деревьев, каждое из которых само по себе даёт очень невысокое качество классификации, но за счёт их большого количества результат получается хорошим.***"
   ]
  },
  {
   "cell_type": "markdown",
   "metadata": {},
   "source": [
    "Импортируем библиотеку для построения модели:"
   ]
  },
  {
   "cell_type": "code",
   "execution_count": 56,
   "metadata": {},
   "outputs": [],
   "source": [
    "from sklearn.ensemble import RandomForestClassifier"
   ]
  },
  {
   "cell_type": "markdown",
   "metadata": {},
   "source": [
    "Строим нашу модель и матрицу ошибок:"
   ]
  },
  {
   "cell_type": "code",
   "execution_count": 61,
   "metadata": {},
   "outputs": [
    {
     "name": "stdout",
     "output_type": "stream",
     "text": [
      "[[5962902     272]\n",
      " [ 347696    5359]]\n",
      "test data\n",
      "0.9449089005480961\n",
      "Confusion matrix of train model\n",
      "[[2555825      75]\n",
      " [ 148627    2428]]\n",
      "train data\n",
      "0.9450666893243516\n"
     ]
    }
   ],
   "source": [
    "model = RandomForestClassifier(n_estimators=100,\n",
    "                               max_depth=12,\n",
    "                               random_state=4,\n",
    "                               oob_score=True,\n",
    "                               n_jobs=-1)\n",
    "model.fit(X_train,Y_train)\n",
    "model.predict(X_test)\n",
    "model.predict(X_train)\n",
    "print(confusion_matrix(Y_test,model.predict(X_test)))\n",
    "print('test data')\n",
    "print(accuracy_score(Y_test,model.predict(X_test)))\n",
    "print(\"Confusion matrix of train model\")\n",
    "print(confusion_matrix(Y_train,model.predict(X_train)))\n",
    "print(\"train data\")\n",
    "print(accuracy_score(Y_train,model.predict(X_train)))"
   ]
  },
  {
   "cell_type": "markdown",
   "metadata": {},
   "source": [
    "Строим ROC-кривую для нашей модели:"
   ]
  },
  {
   "cell_type": "code",
   "execution_count": 63,
   "metadata": {},
   "outputs": [
    {
     "name": "stdout",
     "output_type": "stream",
     "text": [
      "0.6574538511647715\n"
     ]
    },
    {
     "data": {
      "image/png": "[encoded data removed]",
      "text/plain": [
       "<Figure size 432x288 with 1 Axes>"
      ]
     },
     "metadata": {
      "needs_background": "light"
     },
     "output_type": "display_data"
    }
   ],
   "source": [
    "pred_proba = model.predict_proba(X_test)\n",
    "fpr, tpr, thresholds = roc_curve(Y_test,pred_proba[:,1])\n",
    "print(roc_auc_score(Y_test,pred_proba[:,1]))\n",
    "plt.plot(fpr,tpr)\n",
    "plt.xlim([0.0,1.0])\n",
    "plt.ylim([0.0,1.0])\n",
    "\n",
    "plt.title(\"ROC AUC - Random Forest\")\n",
    "plt.xlabel(\"False Positive\")\n",
    "plt.ylabel(\"True Positive\")\n",
    "\n",
    "plt.grid(True)\n",
    "plt.show()"
   ]
  },
  {
   "cell_type": "markdown",
   "metadata": {},
   "source": [
    "### Bagging"
   ]
  },
  {
   "cell_type": "markdown",
   "metadata": {},
   "source": [
    "***Бэггинг (баггинг) - от англ. Bootstrap aggregating, это технология классификации, использующая композиции алгоритмов, каждый из которых обучается независимо. Результат классификации определяется путем голосования. Бэггинг позволяет снизить процент ошибки классификации в случае, когда высока дисперсия ошибки базового метода. Бэггинг – технология классификации, где все элементарные классификаторы обучаются и работают параллельно (независимо друг от друга). Идея заключается в том, что классификаторы не исправляют ошибки друг друга, а компенсируют их при \"голосовании\". Базовые классификаторы должны быть независимыми, это могут быть классификаторы основанные на разных группах методов или же обученные на независимых наборах данных.***"
   ]
  },
  {
   "cell_type": "markdown",
   "metadata": {},
   "source": [
    "Импортируем нужные нам библиотеки:"
   ]
  },
  {
   "cell_type": "code",
   "execution_count": 62,
   "metadata": {},
   "outputs": [],
   "source": [
    "from sklearn.ensemble import BaggingClassifier"
   ]
  },
  {
   "cell_type": "markdown",
   "metadata": {},
   "source": [
    "Строим модель и матрицу ошибок:"
   ]
  },
  {
   "cell_type": "code",
   "execution_count": 64,
   "metadata": {},
   "outputs": [
    {
     "name": "stdout",
     "output_type": "stream",
     "text": [
      "[[5956443    6731]\n",
      " [ 334444   18611]]\n",
      "test data\n",
      "0.9459843840367409\n",
      "Confusion matrix of train model\n",
      "[[2554304    1596]\n",
      " [ 141988    9067]]\n",
      "train data\n",
      "0.94695737461465\n"
     ]
    }
   ],
   "source": [
    "b_model = BaggingClassifier()\n",
    "b_model.fit(X_train,Y_train)\n",
    "b_model.predict(X_test)\n",
    "b_model.predict(X_train)\n",
    "print(confusion_matrix(Y_test,b_model.predict(X_test)))\n",
    "print('test data')\n",
    "print(accuracy_score(Y_test,b_model.predict(X_test)))\n",
    "print(\"Confusion matrix of train model\")\n",
    "print(confusion_matrix(Y_train,b_model.predict(X_train)))\n",
    "print(\"train data\")\n",
    "print(accuracy_score(Y_train,b_model.predict(X_train)))"
   ]
  },
  {
   "cell_type": "markdown",
   "metadata": {},
   "source": [
    "Строим ROC-кривую для нашей модели:"
   ]
  },
  {
   "cell_type": "code",
   "execution_count": 66,
   "metadata": {},
   "outputs": [
    {
     "name": "stdout",
     "output_type": "stream",
     "text": [
      "0.676369622757166\n"
     ]
    },
    {
     "data": {
      "image/png": "[encoded data removed]",
      "text/plain": [
       "<Figure size 432x288 with 1 Axes>"
      ]
     },
     "metadata": {
      "needs_background": "light"
     },
     "output_type": "display_data"
    }
   ],
   "source": [
    "pred_proba = b_model.predict_proba(X_test)\n",
    "fpr, tpr, thresholds = roc_curve(Y_test,pred_proba[:,1])\n",
    "print(roc_auc_score(Y_test,pred_proba[:,1]))\n",
    "plt.plot(fpr,tpr)\n",
    "plt.xlim([0.0,1.0])\n",
    "plt.ylim([0.0,1.0])\n",
    "\n",
    "plt.title(\"ROC AUC for Bagging\")\n",
    "plt.xlabel(\"False Positive\")\n",
    "plt.ylabel(\"True Positive\")\n",
    "\n",
    "plt.grid(True)\n",
    "plt.show()"
   ]
  },
  {
   "cell_type": "markdown",
   "metadata": {},
   "source": [
    "### AdaBoost"
   ]
  },
  {
   "cell_type": "markdown",
   "metadata": {},
   "source": [
    "***Алгоритм AdaBoost (сокр. от adaptive boosting) — алгоритм машинного обучения, предложенный Йоавом Фройндом (Yoav Freund) и Робертом Шапиром (Robert Schapire). Является мета-алгоритмом, в процессе обучения строит композицию из базовых алгоритмов обучения для улучшения их эффективности. AdaBoost является алгоритмом адаптивного бустинга в том смысле, что каждый следующий классификатор строится по объектам, которые плохо классифицируются предыдущими классификаторами. AdaBoost вызывает слабый классификатор в цикле. После каждого вызова обновляется распределение весов, которые отвечают важности каждого из объектов обучающего множества для классификации. На каждой итерации веса каждого неверно классифицированного объекта возрастают, таким образом новый классификатор «фокусирует своё внимание» на этих объектах. Алгоритм может использоваться в сочетании с несколькими алгоритмами классификации для улучшения их эффективности. Алгоритм усиливает классификаторы.***"
   ]
  },
  {
   "cell_type": "markdown",
   "metadata": {},
   "source": [
    "Импортируем библиотеку:"
   ]
  },
  {
   "cell_type": "code",
   "execution_count": 67,
   "metadata": {},
   "outputs": [],
   "source": [
    "from sklearn.ensemble import AdaBoostClassifier"
   ]
  },
  {
   "cell_type": "markdown",
   "metadata": {},
   "source": [
    "Строим модель:"
   ]
  },
  {
   "cell_type": "code",
   "execution_count": 69,
   "metadata": {},
   "outputs": [
    {
     "name": "stdout",
     "output_type": "stream",
     "text": [
      "0.9459764679209699\n"
     ]
    }
   ],
   "source": [
    "abc = AdaBoostClassifier(b_model,\n",
    "                         algorithm=\"SAMME\",\n",
    "                         n_estimators=1)\n",
    "\n",
    "abc.fit(X_train, Y_train)\n",
    "y_pred = abc.predict(X_test)\n",
    "\n",
    "print(accuracy_score(Y_test, y_pred))"
   ]
  },
  {
   "cell_type": "markdown",
   "metadata": {},
   "source": [
    "Строим ROC-кривую для нашей модели:"
   ]
  },
  {
   "cell_type": "code",
   "execution_count": 71,
   "metadata": {},
   "outputs": [
    {
     "name": "stdout",
     "output_type": "stream",
     "text": [
      "0.6763988554061438\n"
     ]
    },
    {
     "data": {
      "image/png": "[encoded data removed]",
      "text/plain": [
       "<Figure size 432x288 with 1 Axes>"
      ]
     },
     "metadata": {
      "needs_background": "light"
     },
     "output_type": "display_data"
    }
   ],
   "source": [
    "pred_proba = abc.predict_proba(X_test)\n",
    "fpr, tpr, thresholds = roc_curve(Y_test,pred_proba[:,1])\n",
    "print(roc_auc_score(Y_test,pred_proba[:,1]))\n",
    "plt.plot(fpr,tpr)\n",
    "plt.xlim([0.0,1.0])\n",
    "plt.ylim([0.0,1.0])\n",
    "\n",
    "plt.title(\"ROC AUC - AdaBoost(Bagging)\")\n",
    "plt.xlabel(\"False Positive\")\n",
    "plt.ylabel(\"True Positive\")\n",
    "\n",
    "plt.grid(True)\n",
    "plt.show()"
   ]
  },
  {
   "cell_type": "markdown",
   "metadata": {},
   "source": [
    "## Выводы"
   ]
  },
  {
   "cell_type": "markdown",
   "metadata": {},
   "source": [
    "Поместим все результаты в таблицу:\n",
    "\n",
    "| Название классификатора \t|     Результаты     \t|\n",
    "|:-------------:\t|:------------------:\t|\n",
    "| **Decision Tree** \t| 0.6380625245334907 \t|\n",
    "| **Random Forest** \t| 0.6574538511647715 \t|\n",
    "| **Bagging**     \t| 0.676369622757166  \t|\n",
    "| **AdaBoost**      \t| 0.6763988554061438 \t|"
   ]
  },
  {
   "cell_type": "markdown",
   "metadata": {},
   "source": [
    "Лучшая оценка, которую мы получили оказалась на методе AdaBoost, который почти не улучшил результаты метода Bagging.\n",
    "В итоге работы не были применены некоторые методы обработки данных, такие как one hot encoding.\n",
    "\n",
    "Таким образом, изучив различные методы тренировки модели, а также применив их - у нас получилась модель, которая дает ответ с ошибкой ~33%, что является не самым лучшим результатом, но в качестве опыта работы над моделями - вышло достаточно неплохо. Возможно, если бы создавались уникальные признаки для каждого уникального значения, то модель могла выйти более точной."
   ]
  }
 ],
 "metadata": {
  "kernelspec": {
   "display_name": "Python 3",
   "language": "python",
   "name": "python3"
  },
  "language_info": {
   "codemirror_mode": {
    "name": "ipython",
    "version": 3
   },
   "file_extension": ".py",
   "mimetype": "text/x-python",
   "name": "python",
   "nbconvert_exporter": "python",
   "pygments_lexer": "ipython3",
   "version": "3.7.3"
  }
 },
 "nbformat": 4,
 "nbformat_minor": 2
}
